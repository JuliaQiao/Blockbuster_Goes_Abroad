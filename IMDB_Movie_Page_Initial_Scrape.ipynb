{
 "cells": [
  {
   "cell_type": "code",
   "execution_count": 67,
   "metadata": {},
   "outputs": [],
   "source": [
    "from bs4 import BeautifulSoup\n",
    "import requests"
   ]
  },
  {
   "cell_type": "code",
   "execution_count": 71,
   "metadata": {},
   "outputs": [],
   "source": [
    "#turn this into function later, because you get passed the URL list from Mojo scrape.\n",
    "\n",
    "url = 'https://pro.imdb.com/title/tt0120737'\n",
    "\n",
    "response = requests.get(url)\n",
    "\n",
    "page = response.text\n",
    "\n",
    "soup = BeautifulSoup(page)"
   ]
  },
  {
   "cell_type": "code",
   "execution_count": 72,
   "metadata": {
    "scrolled": true
   },
   "outputs": [
    {
     "data": {
      "text/plain": [
       "200"
      ]
     },
     "execution_count": 72,
     "metadata": {},
     "output_type": "execute_result"
    }
   ],
   "source": [
    "response.status_code"
   ]
  },
  {
   "cell_type": "code",
   "execution_count": 73,
   "metadata": {},
   "outputs": [
    {
     "data": {
      "text/plain": [
       "'The Lord of the Rings: The Fellowship of the Ring'"
      ]
     },
     "execution_count": 73,
     "metadata": {},
     "output_type": "execute_result"
    }
   ],
   "source": [
    "title_string = soup.find(id= 'title_heading').find('span').text\n",
    "title = title_string.split('(')[0].strip()\n",
    "title"
   ]
  },
  {
   "cell_type": "code",
   "execution_count": 74,
   "metadata": {
    "scrolled": true
   },
   "outputs": [
    {
     "data": {
      "text/plain": [
       "'Action, Adventure, Drama'"
      ]
     },
     "execution_count": 74,
     "metadata": {},
     "output_type": "execute_result"
    }
   ],
   "source": [
    "genres = soup.find(id= 'genres').text\n",
    "genres"
   ]
  },
  {
   "cell_type": "code",
   "execution_count": 75,
   "metadata": {},
   "outputs": [
    {
     "data": {
      "text/plain": [
       "'Peter Jackson'"
      ]
     },
     "execution_count": 75,
     "metadata": {},
     "output_type": "execute_result"
    }
   ],
   "source": [
    "#find director in summary section\n",
    "soup.find(id = 'const_page_summary_section').find(class_='a-fixed-left-grid a-spacing-base').find(class_='a-size- a-align- a-link-').find('span').text"
   ]
  },
  {
   "cell_type": "code",
   "execution_count": 76,
   "metadata": {},
   "outputs": [
    {
     "data": {
      "text/plain": [
       "'\\nWon\\n4\\nOscar\\nAwards.\\nAnother\\n114\\nwins &\\n125\\nnominations'"
      ]
     },
     "execution_count": 76,
     "metadata": {},
     "output_type": "execute_result"
    }
   ],
   "source": [
    "#find awards summary\n",
    "awards_string = soup.find(class_=\"awards_summary_text\").text\n",
    "awards_string"
   ]
  },
  {
   "cell_type": "code",
   "execution_count": 87,
   "metadata": {},
   "outputs": [],
   "source": [
    "#create boolean for whether oscar win is included\n",
    "#bool(\"Won\" in awards_string and \"Oscar\" in awards_string)\n"
   ]
  },
  {
   "cell_type": "code",
   "execution_count": 61,
   "metadata": {},
   "outputs": [
    {
     "data": {
      "text/plain": [
       "[<span class=\"a-size-medium a-color-secondary\"> (2019)</span>,\n",
       " <span class=\"a-color-secondary\"> Director</span>,\n",
       " <span class=\"a-color-secondary\"></span>,\n",
       " <span class=\"a-color-secondary\"> Writers</span>,\n",
       " <span class=\"a-color-secondary\"></span>,\n",
       " <span class=\"a-color-secondary\"></span>,\n",
       " <span class=\"a-color-secondary\"></span>,\n",
       " <span class=\"a-color-secondary\"></span>,\n",
       " <span class=\"a-color-secondary\"> Producers</span>,\n",
       " <span class=\"a-color-secondary\"></span>,\n",
       " <span class=\"a-color-secondary\"></span>,\n",
       " <span class=\"a-color-secondary\"></span>,\n",
       " <span class=\"a-color-secondary\"></span>,\n",
       " <span class=\"a-color-secondary\"></span>,\n",
       " <span class=\"a-color-secondary\"> Composer</span>,\n",
       " <span class=\"a-color-secondary\"></span>,\n",
       " <span class=\"a-color-secondary\"> Cinematographer</span>,\n",
       " <span class=\"a-color-secondary\"></span>,\n",
       " <span class=\"a-color-secondary\"> Editor</span>,\n",
       " <span class=\"a-color-secondary\"></span>,\n",
       " <span class=\"a-color-secondary\"> (United States)\n",
       " </span>,\n",
       " <span class=\"a-size-mini a-color-secondary tab_subheading\"> 33 cast members\n",
       " </span>,\n",
       " <span class=\"a-color-secondary\"> (2015)</span>,\n",
       " <span class=\"a-color-secondary\"> (2018)</span>,\n",
       " <span class=\"a-color-secondary\"> (2018)</span>,\n",
       " <span class=\"a-color-secondary\"> (2001)</span>,\n",
       " <span class=\"a-color-secondary\"> (2019)</span>,\n",
       " <span class=\"a-color-secondary\"> (2014)</span>,\n",
       " <span class=\"a-color-secondary\"> (2016)</span>,\n",
       " <span class=\"a-color-secondary\"> (2014)</span>,\n",
       " <span class=\"a-color-secondary\"> (2019)</span>,\n",
       " <span class=\"a-color-secondary\"> (2010)</span>,\n",
       " <span class=\"a-color-secondary\"> (2006)</span>,\n",
       " <span class=\"a-color-secondary\"> (2019)</span>,\n",
       " <span class=\"a-color-secondary\"> (2019)</span>,\n",
       " <span class=\"a-color-secondary\"> (2013)</span>,\n",
       " <span class=\"a-color-secondary\"> (2013)</span>,\n",
       " <span class=\"a-color-secondary\"> (2018)</span>,\n",
       " <span class=\"a-color-secondary\"> (2019)</span>,\n",
       " <span class=\"a-color-secondary\"> (2018)</span>,\n",
       " <span class=\"a-color-secondary\"> (2018)</span>,\n",
       " <span class=\"a-color-secondary\"> (2010)</span>,\n",
       " <span class=\"a-color-secondary\"> (2019)</span>,\n",
       " <span class=\"a-color-secondary\"> (2015)</span>,\n",
       " <span class=\"a-color-secondary\"> (2017)</span>,\n",
       " <span class=\"a-color-secondary\"> (2014)</span>,\n",
       " <span class=\"a-color-secondary\"> (I)</span>,\n",
       " <span class=\"a-color-secondary\"> (2017)</span>,\n",
       " <span class=\"a-color-secondary\"> (2011)</span>,\n",
       " <span class=\"a-color-secondary\"> (2015)</span>,\n",
       " <span class=\"a-color-secondary\"> (2015)</span>,\n",
       " <span class=\"a-color-secondary\"> (2019)</span>,\n",
       " <span class=\"a-color-secondary\"> (2015)</span>,\n",
       " <span class=\"a-color-secondary\"> (2019)</span>,\n",
       " <span class=\"a-color-secondary\"> (2017)</span>,\n",
       " <span class=\"a-size-medium a-color-secondary glyphicons glyphicons-icon glyphicons-cardio aok-align-center\"></span>,\n",
       " <span class=\"a-size-small a-color-secondary\"> / 10\n",
       " <span class=\"a-letter-space\"></span> |\n",
       " <span class=\"a-letter-space\"></span> 25,642 votes\n",
       " </span>]"
      ]
     },
     "execution_count": 61,
     "metadata": {},
     "output_type": "execute_result"
    }
   ],
   "source": [
    "soup.find_all('span', class_='a-color-secondary')"
   ]
  },
  {
   "cell_type": "code",
   "execution_count": 66,
   "metadata": {},
   "outputs": [
    {
     "data": {
      "text/plain": [
       "<span class=\"a-color-secondary\"> Writers</span>"
      ]
     },
     "execution_count": 66,
     "metadata": {},
     "output_type": "execute_result"
    }
   ],
   "source": [
    "#writers\n",
    "soup.find(id=\"const_page_summary_section\").find_all('span', class_='a-color-secondary')[2]\n",
    "\n",
    "#find_all(class_= 'a-fixed-left-grid a-spacing-base')"
   ]
  },
  {
   "cell_type": "code",
   "execution_count": 58,
   "metadata": {
    "scrolled": false
   },
   "outputs": [
    {
     "data": {
      "text/plain": [
       "[<a class=\"a-size- a-align- a-link-\" href=\"https://pro.imdb.com/name/nm4069148/?ref_=tt_pub_fm_wrt\"> <span>Gong Geer</span>\n",
       " </a>,\n",
       " <a class=\"a-size- a-align- a-link-\" href=\"https://pro.imdb.com/name/nm9400701/?ref_=tt_pub_fm_wrt\"> <span>Junce Ye</span>\n",
       " </a>,\n",
       " <a class=\"a-size- a-align- a-link-\" href=\"https://pro.imdb.com/name/nm9400700/?ref_=tt_pub_fm_wrt\"> <span>Yan Dongxu</span>\n",
       " </a>,\n",
       " <a class=\"a-size- a-align- a-link-\" href=\"https://pro.imdb.com/name/nm4914792/?ref_=tt_pub_fm_wrt\"> <span>Frant Gwo</span>\n",
       " </a>,\n",
       " <a class=\"a-size- a-align- a-link-\" href=\"https://pro.imdb.com/title/tt7605074/filmmakers?ref_=tt_pub_fm_more\"> 4 more\n",
       " </a>,\n",
       " <a class=\"a-size- a-align- a-link-\" href=\"https://pro.imdb.com/name/nm4069148/?ref_=tt_pub_fm_prodr\"> <span>Gong Geer</span>\n",
       " </a>,\n",
       " <a class=\"a-size- a-align- a-link-\" href=\"https://pro.imdb.com/name/nm3601540/?ref_=tt_pub_fm_prodr\"> <span>Ge Song</span>\n",
       " </a>,\n",
       " <a class=\"a-size- a-align- a-link-\" href=\"https://pro.imdb.com/name/nm0918566/?ref_=tt_pub_fm_prodr\"> <span>Noah Weinzweig</span>\n",
       " </a>,\n",
       " <a class=\"a-size- a-align- a-link-\" href=\"https://pro.imdb.com/name/nm6300912/?ref_=tt_pub_fm_prodr\"> <span>Jianhai Xu</span>\n",
       " </a>,\n",
       " <a class=\"a-size- a-align- a-link-\" href=\"https://pro.imdb.com/name/nm5325749/?ref_=tt_pub_fm_prodr\"> <span>Joe Zhang</span>\n",
       " </a>,\n",
       " <a class=\"a-size- a-align- a-link-\" href=\"https://pro.imdb.com/name/nm3238657/?ref_=tt_pub_fm_comp\"> <span>Roc Chen</span>\n",
       " </a>,\n",
       " <a class=\"a-size- a-align- a-link-\" href=\"https://pro.imdb.com/name/nm8824222/?ref_=tt_pub_fm_ci\"> <span>Michael Liu</span>\n",
       " </a>,\n",
       " <a class=\"a-size- a-align- a-link-\" href=\"https://pro.imdb.com/name/nm0156496/?ref_=tt_pub_fm_ed\"> <span>Ka-Fai Cheung</span>\n",
       " </a>,\n",
       " <a class=\"a-size- a-align- a-link-\" href=\"https://pro.imdb.com/title/tt7605074/filmmakers?ref_=tt_pub_fm_all\"> See all filmmakers &amp; crew (404)\n",
       " </a>,\n",
       " <a class=\"a-link-normal\" data-bypasspublicrestriction=\"true\" href=\"/login/ap?imdbPageAction=signUp&amp;u=%2F\"><p class=\"a-text-left\"><span class=\"a-button a-button-primary\"><span class=\"a-button-inner\"><input class=\"a-button-input\" type=\"submit\"/><span aria-hidden=\"true\" class=\"a-button-text\"> Start your 30-Day free trial\n",
       " </span></span></span></p></a>,\n",
       " <a class=\"a-link-normal\" data-bypasspublicrestriction=\"true\" href=\"/login/ap?imdbPageAction=signUp&amp;u=%2F\"><p class=\"a-text-left\"><span class=\"a-button a-button-primary\"><span class=\"a-button-inner\"><input class=\"a-button-input\" type=\"submit\"/><span aria-hidden=\"true\" class=\"a-button-text\"> Start your 30-Day free trial\n",
       " </span></span></span></p></a>,\n",
       " <a class=\"a-size- a-align- a-link-\" href=\"https://pro.imdb.com/title/tt7605074/details?ref_=tt_pub_box_office_summary\">Feb\n",
       " 5,\n",
       " 2019</a>,\n",
       " <a class=\"a-size- a-align- a-link-\" href=\"https://pro.imdb.com/title/tt7605074/details?ref_=tt_pub_awards_summary\">\n",
       " <span class=\"awards_summary_text\">\n",
       " 26\n",
       " wins &amp;\n",
       " 37\n",
       " nominations</span>\n",
       " </a>,\n",
       " <a class=\"a-size- a-align- a-link- edit\" href=\"https://contribute.imdb.com/updates?update=tt7605074:production_companies/distributors/special_effects_companies/miscellaneous_companies&amp;ref_=pro_tt_pub_comp_add\" rel=\"noopener\" target=\"_blank\"> + Add\n",
       " </a>,\n",
       " <a class=\"a-link-normal\" data-bypasspublicrestriction=\"true\" href=\"/login/ap?imdbPageAction=signUp&amp;u=%2F\"><p class=\"a-text-left\"><span class=\"a-button a-button-primary\"><span class=\"a-button-inner\"><input class=\"a-button-input\" type=\"submit\"/><span aria-hidden=\"true\" class=\"a-button-text\"> Start your 30-Day free trial\n",
       " </span></span></span></p></a>,\n",
       " <a href=\"https://pro.imdb.com/title/tt7605074/cast\"> Cast\n",
       " </a>,\n",
       " <a href=\"https://pro.imdb.com/title/tt7605074/filmmakers\"> Filmmakers\n",
       " </a>,\n",
       " <a href=\"https://pro.imdb.com/title/tt7605074/images\"> Images\n",
       " </a>,\n",
       " <a href=\"https://pro.imdb.com/title/tt7605074/videos\"> Videos\n",
       " </a>,\n",
       " <a href=\"https://pro.imdb.com/title/tt7605074/details\"> Details\n",
       " </a>,\n",
       " <a href=\"https://pro.imdb.com/title/tt7605074/boxoffice\"> Box Office\n",
       " </a>,\n",
       " <a href=\"https://pro.imdb.com/title/tt7605074/companycredits\"> Companies\n",
       " </a>,\n",
       " <a href=\"https://pro.imdb.com/title/tt7605074/news\"> News\n",
       " </a>,\n",
       " <a class=\"a-size- a-align- a-link-\" href=\"https://contribute.imdb.com/updates?edit=tt7605074/cast&amp;ref_=pro_tt_pub_add_cast_contr\"> + Add Cast\n",
       " </a>,\n",
       " <a class=\"a-size- a-align- a-link-\" href=\"https://pro.imdb.com/name/nm0943104/?ref_=tt_pub_cst_img_1\"> <img alt=\"Jing Wu's primary photo\" class=\"aok-align-center primary_image_default_border a-lazy-loaded\" data-a-hires=\"https://m.media-amazon.com/images/M/MV5BMTMyMzM5MDkzM15BMl5BanBnXkFtZTcwNzI3ODAxNw@@._V1_UY94_CR38,0,64,94_.jpg\" data-src=\"https://m.media-amazon.com/images/M/MV5BMTMyMzM5MDkzM15BMl5BanBnXkFtZTcwNzI3ODAxNw@@._V1_UY47_CR19,0,32,47_.jpg\" height=\"47\" src=\"https://images-na.ssl-images-amazon.com/images/G/01/x-locale/common/grey-pixel.gif\" width=\"32\"/><noscript><img alt=\"Jing Wu's primary photo\" height=\"47\" src=\"https://m.media-amazon.com/images/M/MV5BMTMyMzM5MDkzM15BMl5BanBnXkFtZTcwNzI3ODAxNw@@._V1_UY47_CR19,0,32,47_.jpg\" width=\"32\"/></noscript>\n",
       " </a>,\n",
       " <a class=\"a-size- a-align- a-link-\" href=\"https://pro.imdb.com/name/nm0943104/?ref_=tt_pub_cst_1\">Jing Wu</a>,\n",
       " <a class=\"a-size- a-align- a-link-\" href=\"#\"> See fewer\n",
       " </a>,\n",
       " <a class=\"a-size- a-align- a-link-\" href=\"https://pro.imdb.com/title/tt3540136/?ref_=tt_pub_cst_kf_1\"><span>Wolf Warrior<span class=\"a-color-secondary\"> (2015)</span></span></a>,\n",
       " <a class=\"a-size- a-align- a-link-\" href=\"https://pro.imdb.com/name/nm9524976/?ref_=tt_pub_cst_img_2\"> <img alt=\"Chuxiao Qu's primary photo\" class=\"aok-align-center primary_image_default_border a-lazy-loaded\" data-a-hires=\"https://m.media-amazon.com/images/M/MV5BYzZhZDU3ZjUtZDI5OC00MjBmLWI3OWMtMDI4ZGFkMGFlMTVjXkEyXkFqcGdeQXVyMjg0MTI5NzQ@._V1_UX64_CR0,0,64,94_.jpg\" data-src=\"https://m.media-amazon.com/images/M/MV5BYzZhZDU3ZjUtZDI5OC00MjBmLWI3OWMtMDI4ZGFkMGFlMTVjXkEyXkFqcGdeQXVyMjg0MTI5NzQ@._V1_UX32_CR0,0,32,47_.jpg\" height=\"47\" src=\"https://images-na.ssl-images-amazon.com/images/G/01/x-locale/common/grey-pixel.gif\" width=\"32\"/><noscript><img alt=\"Chuxiao Qu's primary photo\" height=\"47\" src=\"https://m.media-amazon.com/images/M/MV5BYzZhZDU3ZjUtZDI5OC00MjBmLWI3OWMtMDI4ZGFkMGFlMTVjXkEyXkFqcGdeQXVyMjg0MTI5NzQ@._V1_UX32_CR0,0,32,47_.jpg\" width=\"32\"/></noscript>\n",
       " </a>,\n",
       " <a class=\"a-size- a-align- a-link-\" href=\"https://pro.imdb.com/name/nm9524976/?ref_=tt_pub_cst_2\">Chuxiao Qu</a>,\n",
       " <a class=\"a-size- a-align- a-link-\" href=\"#\"> See fewer\n",
       " </a>,\n",
       " <a class=\"a-size- a-align- a-link-\" href=\"https://pro.imdb.com/title/tt7834942/?ref_=tt_pub_cst_kf_2\"><span>Bloody Romance<span class=\"a-color-secondary\"> (2018)</span></span></a>,\n",
       " <a class=\"a-size- a-align- a-link-\" href=\"https://pro.imdb.com/name/nm2974534/?ref_=tt_pub_cst_img_3\"> <img alt=\"Guangjie Li's primary photo\" class=\"aok-align-center primary_image_default_border a-lazy-loaded\" data-a-hires=\"https://m.media-amazon.com/images/M/MV5BOTQzZWVjY2MtMjFlMi00YTBjLTkwZjctYTcxMzM2YmY2ZjM3XkEyXkFqcGdeQXVyNDg5Mzk5Mg@@._V1_UX64_CR0,0,64,94_.jpg\" data-src=\"https://m.media-amazon.com/images/M/MV5BOTQzZWVjY2MtMjFlMi00YTBjLTkwZjctYTcxMzM2YmY2ZjM3XkEyXkFqcGdeQXVyNDg5Mzk5Mg@@._V1_UX32_CR0,0,32,47_.jpg\" height=\"47\" src=\"https://images-na.ssl-images-amazon.com/images/G/01/x-locale/common/grey-pixel.gif\" width=\"32\"/><noscript><img alt=\"Guangjie Li's primary photo\" height=\"47\" src=\"https://m.media-amazon.com/images/M/MV5BOTQzZWVjY2MtMjFlMi00YTBjLTkwZjctYTcxMzM2YmY2ZjM3XkEyXkFqcGdeQXVyNDg5Mzk5Mg@@._V1_UX32_CR0,0,32,47_.jpg\" width=\"32\"/></noscript>\n",
       " </a>,\n",
       " <a class=\"a-size- a-align- a-link-\" href=\"https://pro.imdb.com/name/nm2974534/?ref_=tt_pub_cst_3\">Guangjie Li</a>,\n",
       " <a class=\"a-size- a-align- a-link-\" href=\"#\"> See fewer\n",
       " </a>,\n",
       " <a class=\"a-size- a-align- a-link-\" href=\"https://pro.imdb.com/title/tt9140804/?ref_=tt_pub_cst_kf_3\"><span>The City of Chaos<span class=\"a-color-secondary\"> (2018)</span></span></a>,\n",
       " <a class=\"a-size- a-align- a-link-\" href=\"https://pro.imdb.com/name/nm0628806/?ref_=tt_pub_cst_img_4\"> <img alt=\"Man-Tat Ng's primary photo\" class=\"aok-align-center primary_image_default_border a-lazy-loaded\" data-a-hires=\"https://m.media-amazon.com/images/M/MV5BMjZmYTcwNDItNzFjYi00MzRlLTgzMWItYmUzODI3ZjA3Y2JlXkEyXkFqcGdeQXVyMTExNDQ2MTI@._V1_UY94_CR1,0,64,94_.jpg\" data-src=\"https://m.media-amazon.com/images/M/MV5BMjZmYTcwNDItNzFjYi00MzRlLTgzMWItYmUzODI3ZjA3Y2JlXkEyXkFqcGdeQXVyMTExNDQ2MTI@._V1_UY47_CR1,0,32,47_.jpg\" height=\"47\" src=\"https://images-na.ssl-images-amazon.com/images/G/01/x-locale/common/grey-pixel.gif\" width=\"32\"/><noscript><img alt=\"Man-Tat Ng's primary photo\" height=\"47\" src=\"https://m.media-amazon.com/images/M/MV5BMjZmYTcwNDItNzFjYi00MzRlLTgzMWItYmUzODI3ZjA3Y2JlXkEyXkFqcGdeQXVyMTExNDQ2MTI@._V1_UY47_CR1,0,32,47_.jpg\" width=\"32\"/></noscript>\n",
       " </a>,\n",
       " <a class=\"a-size- a-align- a-link-\" href=\"https://pro.imdb.com/name/nm0628806/?ref_=tt_pub_cst_4\">Man-Tat Ng</a>,\n",
       " <a class=\"a-size- a-align- a-link-\" href=\"#\"> See fewer\n",
       " </a>,\n",
       " <a class=\"a-size- a-align- a-link-\" href=\"https://pro.imdb.com/title/tt0286112/?ref_=tt_pub_cst_kf_4\"><span>Shaolin Soccer<span class=\"a-color-secondary\"> (2001)</span></span></a>,\n",
       " <a class=\"a-size- a-align- a-link-\" href=\"https://pro.imdb.com/name/nm6165535/?ref_=tt_pub_cst_img_5\"> <img alt=\"Jin Mai Jaho's primary photo\" class=\"aok-align-center primary_image_default_border a-lazy-loaded\" data-a-hires=\"https://m.media-amazon.com/images/G/01/IMDbPro/images/default_name._V142442227_UY94_CR15,0,64,94_.png\" data-src=\"https://m.media-amazon.com/images/G/01/IMDbPro/images/default_name._V142442227_UY47_CR7,0,32,47_.png\" height=\"47\" src=\"https://images-na.ssl-images-amazon.com/images/G/01/x-locale/common/grey-pixel.gif\" width=\"32\"/><noscript><img alt=\"Jin Mai Jaho's primary photo\" height=\"47\" src=\"https://m.media-amazon.com/images/G/01/IMDbPro/images/default_name._V142442227_UY47_CR7,0,32,47_.png\" width=\"32\"/></noscript>\n",
       " </a>,\n",
       " <a class=\"a-size- a-align- a-link-\" href=\"https://pro.imdb.com/name/nm6165535/?ref_=tt_pub_cst_5\">Jin Mai Jaho</a>,\n",
       " <a class=\"a-size- a-align- a-link-\" href=\"#\"> See fewer\n",
       " </a>,\n",
       " <a class=\"a-size- a-align- a-link-\" href=\"https://pro.imdb.com/title/tt10457374/?ref_=tt_pub_cst_kf_5\"><span>Growing Pain<span class=\"a-color-secondary\"> (2019)</span></span></a>,\n",
       " <a class=\"a-size- a-align- a-link-\" href=\"https://pro.imdb.com/name/nm4454963/?ref_=tt_pub_cst_img_6\"> <img alt=\"Mike Kai Sui's primary photo\" class=\"aok-align-center primary_image_default_border a-lazy-loaded\" data-a-hires=\"https://m.media-amazon.com/images/M/MV5BN2Q1Y2VmM2EtYzQwYS00NDcyLTgyODYtNjE5MTljZGEzMmRhL2ltYWdlL2ltYWdlXkEyXkFqcGdeQXVyMjg0MTI5NzQ@._V1_UY94_CR13,0,64,94_.jpg\" data-src=\"https://m.media-amazon.com/images/M/MV5BN2Q1Y2VmM2EtYzQwYS00NDcyLTgyODYtNjE5MTljZGEzMmRhL2ltYWdlL2ltYWdlXkEyXkFqcGdeQXVyMjg0MTI5NzQ@._V1_UY47_CR6,0,32,47_.jpg\" height=\"47\" src=\"https://images-na.ssl-images-amazon.com/images/G/01/x-locale/common/grey-pixel.gif\" width=\"32\"/><noscript><img alt=\"Mike Kai Sui's primary photo\" height=\"47\" src=\"https://m.media-amazon.com/images/M/MV5BN2Q1Y2VmM2EtYzQwYS00NDcyLTgyODYtNjE5MTljZGEzMmRhL2ltYWdlL2ltYWdlXkEyXkFqcGdeQXVyMjg0MTI5NzQ@._V1_UY47_CR6,0,32,47_.jpg\" width=\"32\"/></noscript>\n",
       " </a>,\n",
       " <a class=\"a-size- a-align- a-link-\" href=\"https://pro.imdb.com/name/nm4454963/?ref_=tt_pub_cst_6\">Mike Kai Sui</a>,\n",
       " <a class=\"a-size- a-align- a-link-\" href=\"#\"> See fewer\n",
       " </a>,\n",
       " <a class=\"a-size- a-align- a-link-\" href=\"https://pro.imdb.com/title/tt3313908/?ref_=tt_pub_cst_kf_6\"><span>Women Who Flirt<span class=\"a-color-secondary\"> (2014)</span></span></a>,\n",
       " <a class=\"a-size- a-align- a-link-\" href=\"https://pro.imdb.com/name/nm8824213/?ref_=tt_pub_cst_img_7\"> <img alt=\"Hongchen Li's primary photo\" class=\"aok-align-center primary_image_default_border a-lazy-loaded\" data-a-hires=\"https://m.media-amazon.com/images/G/01/IMDbPro/images/default_name._V142442227_UY94_CR15,0,64,94_.png\" data-src=\"https://m.media-amazon.com/images/G/01/IMDbPro/images/default_name._V142442227_UY47_CR7,0,32,47_.png\" height=\"47\" src=\"https://images-na.ssl-images-amazon.com/images/G/01/x-locale/common/grey-pixel.gif\" width=\"32\"/><noscript><img alt=\"Hongchen Li's primary photo\" height=\"47\" src=\"https://m.media-amazon.com/images/G/01/IMDbPro/images/default_name._V142442227_UY47_CR7,0,32,47_.png\" width=\"32\"/></noscript>\n",
       " </a>,\n",
       " <a class=\"a-size- a-align- a-link-\" href=\"https://pro.imdb.com/name/nm8824213/?ref_=tt_pub_cst_7\">Hongchen Li</a>,\n",
       " <a class=\"a-size- a-align- a-link-\" href=\"#\"> See fewer\n",
       " </a>,\n",
       " <a class=\"a-size- a-align- a-link-\" href=\"https://pro.imdb.com/title/tt6605830/?ref_=tt_pub_cst_kf_7\"><span>The Insanity<span class=\"a-color-secondary\"> (2016)</span></span></a>,\n",
       " <a class=\"a-size- a-align- a-link-\" href=\"https://pro.imdb.com/name/nm5576925/?ref_=tt_pub_cst_img_8\"> <img alt=\"Jingjing Qu's primary photo\" class=\"aok-align-center primary_image_default_border a-lazy-loaded\" data-a-hires=\"https://m.media-amazon.com/images/G/01/IMDbPro/images/default_name._V142442227_UY94_CR15,0,64,94_.png\" data-src=\"https://m.media-amazon.com/images/G/01/IMDbPro/images/default_name._V142442227_UY47_CR7,0,32,47_.png\" height=\"47\" src=\"https://images-na.ssl-images-amazon.com/images/G/01/x-locale/common/grey-pixel.gif\" width=\"32\"/><noscript><img alt=\"Jingjing Qu's primary photo\" height=\"47\" src=\"https://m.media-amazon.com/images/G/01/IMDbPro/images/default_name._V142442227_UY47_CR7,0,32,47_.png\" width=\"32\"/></noscript>\n",
       " </a>,\n",
       " <a class=\"a-size- a-align- a-link-\" href=\"https://pro.imdb.com/name/nm5576925/?ref_=tt_pub_cst_8\">Jingjing Qu</a>,\n",
       " <a class=\"a-size- a-align- a-link-\" href=\"#\"> See fewer\n",
       " </a>,\n",
       " <a class=\"a-size- a-align- a-link-\" href=\"https://pro.imdb.com/title/tt3872008/?ref_=tt_pub_cst_kf_8\"><span>Old Boys: The Way of the Dragon<span class=\"a-color-secondary\"> (2014)</span></span></a>,\n",
       " <a class=\"a-size- a-align- a-link-\" href=\"https://pro.imdb.com/name/nm10157250/?ref_=tt_pub_cst_img_9\"> <img alt=\"Yichi Zhang's primary photo\" class=\"aok-align-center primary_image_default_border a-lazy-loaded\" data-a-hires=\"https://m.media-amazon.com/images/G/01/IMDbPro/images/default_name._V142442227_UY94_CR15,0,64,94_.png\" data-src=\"https://m.media-amazon.com/images/G/01/IMDbPro/images/default_name._V142442227_UY47_CR7,0,32,47_.png\" height=\"47\" src=\"https://images-na.ssl-images-amazon.com/images/G/01/x-locale/common/grey-pixel.gif\" width=\"32\"/><noscript><img alt=\"Yichi Zhang's primary photo\" height=\"47\" src=\"https://m.media-amazon.com/images/G/01/IMDbPro/images/default_name._V142442227_UY47_CR7,0,32,47_.png\" width=\"32\"/></noscript>\n",
       " </a>,\n",
       " <a class=\"a-size- a-align- a-link-\" href=\"https://pro.imdb.com/name/nm10157250/?ref_=tt_pub_cst_9\">Yichi Zhang</a>,\n",
       " <a class=\"a-size- a-align- a-link-\" href=\"#\"> See fewer\n",
       " </a>,\n",
       " <a class=\"a-size- a-align- a-link-\" href=\"https://pro.imdb.com/title/tt10295602/?ref_=tt_pub_cst_kf_9\"><span>Line Walker 2: Invisible Spy<span class=\"a-color-secondary\"> (2019)</span></span></a>,\n",
       " <a class=\"a-size- a-align- a-link-\" href=\"https://pro.imdb.com/name/nm4071109/?ref_=tt_pub_cst_img_10\"> <img alt=\"Haoyu Yang's primary photo\" class=\"aok-align-center primary_image_default_border a-lazy-loaded\" data-a-hires=\"https://m.media-amazon.com/images/M/MV5BZmI5Yjk3YzgtZTM2MC00YjlmLTkzMmEtMzk5YjIxMDkxZDI0XkEyXkFqcGdeQXVyMjg0MTI5NzQ@._V1_UX64_CR0,0,64,94_.jpg\" data-src=\"https://m.media-amazon.com/images/M/MV5BZmI5Yjk3YzgtZTM2MC00YjlmLTkzMmEtMzk5YjIxMDkxZDI0XkEyXkFqcGdeQXVyMjg0MTI5NzQ@._V1_UX32_CR0,0,32,47_.jpg\" height=\"47\" src=\"https://images-na.ssl-images-amazon.com/images/G/01/x-locale/common/grey-pixel.gif\" width=\"32\"/><noscript><img alt=\"Haoyu Yang's primary photo\" height=\"47\" src=\"https://m.media-amazon.com/images/M/MV5BZmI5Yjk3YzgtZTM2MC00YjlmLTkzMmEtMzk5YjIxMDkxZDI0XkEyXkFqcGdeQXVyMjg0MTI5NzQ@._V1_UX32_CR0,0,32,47_.jpg\" width=\"32\"/></noscript>\n",
       " </a>,\n",
       " <a class=\"a-size- a-align- a-link-\" href=\"https://pro.imdb.com/name/nm4071109/?ref_=tt_pub_cst_10\">Haoyu Yang</a>,\n",
       " <a class=\"a-size- a-align- a-link-\" href=\"#\"> See fewer\n",
       " </a>,\n",
       " <a class=\"a-size- a-align- a-link-\" href=\"https://pro.imdb.com/title/tt1723112/?ref_=tt_pub_cst_kf_10\"><span>The Ditch<span class=\"a-color-secondary\"> (2010)</span></span></a>,\n",
       " <a class=\"a-size- a-align- a-link-\" href=\"https://pro.imdb.com/name/nm9048822/?ref_=tt_pub_cst_img_11\"> <img alt=\"Zhigang Jiang's primary photo\" class=\"aok-align-center primary_image_default_border a-lazy-loaded\" data-a-hires=\"https://m.media-amazon.com/images/G/01/IMDbPro/images/default_name._V142442227_UY94_CR15,0,64,94_.png\" data-src=\"https://m.media-amazon.com/images/G/01/IMDbPro/images/default_name._V142442227_UY47_CR7,0,32,47_.png\" height=\"47\" src=\"https://images-na.ssl-images-amazon.com/images/G/01/x-locale/common/grey-pixel.gif\" width=\"32\"/><noscript><img alt=\"Zhigang Jiang's primary photo\" height=\"47\" src=\"https://m.media-amazon.com/images/G/01/IMDbPro/images/default_name._V142442227_UY47_CR7,0,32,47_.png\" width=\"32\"/></noscript>\n",
       " </a>,\n",
       " <a class=\"a-size- a-align- a-link-\" href=\"https://pro.imdb.com/name/nm9048822/?ref_=tt_pub_cst_11\">Zhigang Jiang</a>,\n",
       " <a class=\"a-size- a-align- a-link-\" href=\"#\"> See fewer\n",
       " </a>,\n",
       " <a class=\"a-size- a-align- a-link-\" href=\"https://pro.imdb.com/title/tt0843270/?ref_=tt_pub_cst_kf_11\"><span>Crazy Stone<span class=\"a-color-secondary\"> (2006)</span></span></a>,\n",
       " <a class=\"a-size- a-align- a-link-\" href=\"https://pro.imdb.com/name/nm8968145/?ref_=tt_pub_cst_img_12\"> <img alt=\"Huan Zhang's primary photo\" class=\"aok-align-center primary_image_default_border a-lazy-loaded\" data-a-hires=\"https://m.media-amazon.com/images/G/01/IMDbPro/images/default_name._V142442227_UY94_CR15,0,64,94_.png\" data-src=\"https://m.media-amazon.com/images/G/01/IMDbPro/images/default_name._V142442227_UY47_CR7,0,32,47_.png\" height=\"47\" src=\"https://images-na.ssl-images-amazon.com/images/G/01/x-locale/common/grey-pixel.gif\" width=\"32\"/><noscript><img alt=\"Huan Zhang's primary photo\" height=\"47\" src=\"https://m.media-amazon.com/images/G/01/IMDbPro/images/default_name._V142442227_UY47_CR7,0,32,47_.png\" width=\"32\"/></noscript>\n",
       " </a>,\n",
       " <a class=\"a-size- a-align- a-link-\" href=\"https://pro.imdb.com/name/nm8968145/?ref_=tt_pub_cst_12\">Huan Zhang</a>,\n",
       " <a class=\"a-size- a-align- a-link-\" href=\"#\"> See fewer\n",
       " </a>,\n",
       " <a class=\"a-size- a-align- a-link-\" href=\"https://pro.imdb.com/title/tt9587412/?ref_=tt_pub_cst_kf_12\"><span>I Will Never Let You Go<span class=\"a-color-secondary\"> (2019)</span></span></a>,\n",
       " <a class=\"a-size- a-align- a-link-\" href=\"https://pro.imdb.com/name/nm5042060/?ref_=tt_pub_cst_img_13\"> <img alt=\"Jiayin Lei's primary photo\" class=\"aok-align-center primary_image_default_border a-lazy-loaded\" data-a-hires=\"https://m.media-amazon.com/images/M/MV5BYmRjNjBjOGEtNDY2NC00ZWM0LTlhN2EtZTJkN2I3MWRiNDFkXkEyXkFqcGdeQXVyMjg0MTI5NzQ@._V1_UX64_CR0,0,64,94_.jpg\" data-src=\"https://m.media-amazon.com/images/M/MV5BYmRjNjBjOGEtNDY2NC00ZWM0LTlhN2EtZTJkN2I3MWRiNDFkXkEyXkFqcGdeQXVyMjg0MTI5NzQ@._V1_UX32_CR0,0,32,47_.jpg\" height=\"47\" src=\"https://images-na.ssl-images-amazon.com/images/G/01/x-locale/common/grey-pixel.gif\" width=\"32\"/><noscript><img alt=\"Jiayin Lei's primary photo\" height=\"47\" src=\"https://m.media-amazon.com/images/M/MV5BYmRjNjBjOGEtNDY2NC00ZWM0LTlhN2EtZTJkN2I3MWRiNDFkXkEyXkFqcGdeQXVyMjg0MTI5NzQ@._V1_UX32_CR0,0,32,47_.jpg\" width=\"32\"/></noscript>\n",
       " </a>,\n",
       " <a class=\"a-size- a-align- a-link-\" href=\"https://pro.imdb.com/name/nm5042060/?ref_=tt_pub_cst_13\">Jiayin Lei</a>,\n",
       " <a class=\"a-size- a-align- a-link-\" href=\"#\"> See fewer\n",
       " </a>,\n",
       " <a class=\"a-size- a-align- a-link-\" href=\"https://pro.imdb.com/title/tt10551640/?ref_=tt_pub_cst_kf_13\"><span>The Longest Day in Chang'an<span class=\"a-color-secondary\"> (2019)</span></span></a>,\n",
       " <a class=\"a-size- a-align- a-link-\" href=\"https://pro.imdb.com/name/nm2056551/?ref_=tt_pub_cst_img_14\"> <img alt=\"Arkadiy Sharogradskiy's primary photo\" class=\"aok-align-center primary_image_default_border a-lazy-loaded\" data-a-hires=\"https://m.media-amazon.com/images/G/01/IMDbPro/images/default_name._V142442227_UY94_CR15,0,64,94_.png\" data-src=\"https://m.media-amazon.com/images/G/01/IMDbPro/images/default_name._V142442227_UY47_CR7,0,32,47_.png\" height=\"47\" src=\"https://images-na.ssl-images-amazon.com/images/G/01/x-locale/common/grey-pixel.gif\" width=\"32\"/><noscript><img alt=\"Arkadiy Sharogradskiy's primary photo\" height=\"47\" src=\"https://m.media-amazon.com/images/G/01/IMDbPro/images/default_name._V142442227_UY47_CR7,0,32,47_.png\" width=\"32\"/></noscript>\n",
       " </a>,\n",
       " <a class=\"a-size- a-align- a-link-\" href=\"https://pro.imdb.com/name/nm2056551/?ref_=tt_pub_cst_14\">Arkadiy Sharogradskiy</a>,\n",
       " <a class=\"a-size- a-align- a-link-\" href=\"#\"> See fewer\n",
       " </a>,\n",
       " <a class=\"a-size- a-align- a-link-\" href=\"https://pro.imdb.com/title/tt5951428/?ref_=tt_pub_cst_kf_14\"><span>Ikariya</span></a>,\n",
       " <a class=\"a-size- a-align- a-link-\" href=\"https://pro.imdb.com/name/nm1928500/?ref_=tt_pub_cst_img_15\"> <img alt=\"Hao Ning's primary photo\" class=\"aok-align-center primary_image_default_border a-lazy-loaded\" data-a-hires=\"https://m.media-amazon.com/images/M/MV5BN2M4NjQ3M2QtZTVlNi00MGYwLThlZDAtZWI5ZWY4YWU3OTA1XkEyXkFqcGdeQXVyMjg0MTI5NzQ@._V1_UX64_CR0,0,64,94_.jpg\" data-src=\"https://m.media-amazon.com/images/M/MV5BN2M4NjQ3M2QtZTVlNi00MGYwLThlZDAtZWI5ZWY4YWU3OTA1XkEyXkFqcGdeQXVyMjg0MTI5NzQ@._V1_UX32_CR0,0,32,47_.jpg\" height=\"47\" src=\"https://images-na.ssl-images-amazon.com/images/G/01/x-locale/common/grey-pixel.gif\" width=\"32\"/><noscript><img alt=\"Hao Ning's primary photo\" height=\"47\" src=\"https://m.media-amazon.com/images/M/MV5BN2M4NjQ3M2QtZTVlNi00MGYwLThlZDAtZWI5ZWY4YWU3OTA1XkEyXkFqcGdeQXVyMjg0MTI5NzQ@._V1_UX32_CR0,0,32,47_.jpg\" width=\"32\"/></noscript>\n",
       " </a>,\n",
       " <a class=\"a-size- a-align- a-link-\" href=\"https://pro.imdb.com/name/nm1928500/?ref_=tt_pub_cst_15\">Hao Ning</a>,\n",
       " <a class=\"a-size- a-align- a-link-\" href=\"#\"> See fewer\n",
       " </a>,\n",
       " <a class=\"a-size- a-align- a-link-\" href=\"https://pro.imdb.com/title/tt1456660/?ref_=tt_pub_cst_kf_15\"><span>No Man's Land<span class=\"a-color-secondary\"> (2013)</span></span></a>,\n",
       " <a class=\"a-size- a-align- a-link-\" href=\"https://pro.imdb.com/name/nm8726520/?ref_=tt_pub_cst_img_16\"> <img alt=\"Yi Yang's primary photo\" class=\"aok-align-center primary_image_default_border a-lazy-loaded\" data-a-hires=\"https://m.media-amazon.com/images/G/01/IMDbPro/images/default_name._V142442227_UY94_CR15,0,64,94_.png\" data-src=\"https://m.media-amazon.com/images/G/01/IMDbPro/images/default_name._V142442227_UY47_CR7,0,32,47_.png\" height=\"47\" src=\"https://images-na.ssl-images-amazon.com/images/G/01/x-locale/common/grey-pixel.gif\" width=\"32\"/><noscript><img alt=\"Yi Yang's primary photo\" height=\"47\" src=\"https://m.media-amazon.com/images/G/01/IMDbPro/images/default_name._V142442227_UY47_CR7,0,32,47_.png\" width=\"32\"/></noscript>\n",
       " </a>,\n",
       " <a class=\"a-size- a-align- a-link-\" href=\"https://pro.imdb.com/name/nm8726520/?ref_=tt_pub_cst_16\">Yi Yang</a>,\n",
       " <a class=\"a-size- a-align- a-link-\" href=\"#\"> See fewer\n",
       " </a>,\n",
       " <a class=\"a-size- a-align- a-link-\" href=\"https://pro.imdb.com/title/tt2460488/?ref_=tt_pub_cst_kf_16\"><span>Switch<span class=\"a-color-secondary\"> (2013)</span></span></a>,\n",
       " <a class=\"a-size- a-align- a-link-\" href=\"https://pro.imdb.com/name/nm10277481/?ref_=tt_pub_cst_img_17\"> <img alt=\"Marvin Bouvet's primary photo\" class=\"aok-align-center primary_image_default_border a-lazy-loaded\" data-a-hires=\"https://m.media-amazon.com/images/M/MV5BOGQ1ODQ1YTEtN2U4YS00YWNjLTg2ZjUtNDk3NWU0ZGZlOGYyXkEyXkFqcGdeQXVyODQ1NDAxNTM@._V1_UX64_CR0,0,64,94_.jpg\" data-src=\"https://m.media-amazon.com/images/M/MV5BOGQ1ODQ1YTEtN2U4YS00YWNjLTg2ZjUtNDk3NWU0ZGZlOGYyXkEyXkFqcGdeQXVyODQ1NDAxNTM@._V1_UX32_CR0,0,32,47_.jpg\" height=\"47\" src=\"https://images-na.ssl-images-amazon.com/images/G/01/x-locale/common/grey-pixel.gif\" width=\"32\"/><noscript><img alt=\"Marvin Bouvet's primary photo\" height=\"47\" src=\"https://m.media-amazon.com/images/M/MV5BOGQ1ODQ1YTEtN2U4YS00YWNjLTg2ZjUtNDk3NWU0ZGZlOGYyXkEyXkFqcGdeQXVyODQ1NDAxNTM@._V1_UX32_CR0,0,32,47_.jpg\" width=\"32\"/></noscript>\n",
       " </a>,\n",
       " <a class=\"a-size- a-align- a-link-\" href=\"https://pro.imdb.com/name/nm10277481/?ref_=tt_pub_cst_17\">Marvin Bouvet</a>,\n",
       " <a class=\"a-size- a-align- a-link-\" href=\"#\"> See fewer\n",
       " </a>,\n",
       " <a class=\"a-size- a-align- a-link-\" href=\"https://pro.imdb.com/title/tt7702156/?ref_=tt_pub_cst_kf_17\"><span>Xi Bo Li Ya feng yun<span class=\"a-color-secondary\"> (2018)</span></span></a>,\n",
       " <a class=\"a-size- a-align- a-link-\" href=\"https://pro.imdb.com/name/nm11448277/?ref_=tt_pub_cst_img_18\"> <img alt=\"Elaija Chekhov's primary photo\" class=\"aok-align-center primary_image_default_border a-lazy-loaded\" data-a-hires=\"https://m.media-amazon.com/images/M/MV5BMzM5MTU3YzAtMzMzMi00YjA3LTg0NWMtNTE2NjA1NmUxYTRiXkEyXkFqcGdeQXVyMjQwMDg0Ng@@._V1_UX64_CR0,0,64,94_.jpg\" data-src=\"https://m.media-amazon.com/images/M/MV5BMzM5MTU3YzAtMzMzMi00YjA3LTg0NWMtNTE2NjA1NmUxYTRiXkEyXkFqcGdeQXVyMjQwMDg0Ng@@._V1_UX32_CR0,0,32,47_.jpg\" height=\"47\" src=\"https://images-na.ssl-images-amazon.com/images/G/01/x-locale/common/grey-pixel.gif\" width=\"32\"/><noscript><img alt=\"Elaija Chekhov's primary photo\" height=\"47\" src=\"https://m.media-amazon.com/images/M/MV5BMzM5MTU3YzAtMzMzMi00YjA3LTg0NWMtNTE2NjA1NmUxYTRiXkEyXkFqcGdeQXVyMjQwMDg0Ng@@._V1_UX32_CR0,0,32,47_.jpg\" width=\"32\"/></noscript>\n",
       " </a>,\n",
       " <a class=\"a-size- a-align- a-link-\" href=\"https://pro.imdb.com/name/nm11448277/?ref_=tt_pub_cst_18\">Elaija Chekhov</a>,\n",
       " <a class=\"a-size- a-align- a-link-\" href=\"#\"> See fewer\n",
       " </a>,\n",
       " <a class=\"a-size- a-align- a-link-\" href=\"https://pro.imdb.com/title/tt9378786/?ref_=tt_pub_cst_kf_18\"><span>Diplomatic Situation<span class=\"a-color-secondary\"> (2019)</span></span></a>,\n",
       " <a class=\"a-size- a-align- a-link-\" href=\"https://pro.imdb.com/name/nm10086288/?ref_=tt_pub_cst_img_19\"> <img alt=\"Yesheng Chen's primary photo\" class=\"aok-align-center primary_image_default_border a-lazy-loaded\" data-a-hires=\"https://m.media-amazon.com/images/G/01/IMDbPro/images/default_name._V142442227_UY94_CR15,0,64,94_.png\" data-src=\"https://m.media-amazon.com/images/G/01/IMDbPro/images/default_name._V142442227_UY47_CR7,0,32,47_.png\" height=\"47\" src=\"https://images-na.ssl-images-amazon.com/images/G/01/x-locale/common/grey-pixel.gif\" width=\"32\"/><noscript><img alt=\"Yesheng Chen's primary photo\" height=\"47\" src=\"https://m.media-amazon.com/images/G/01/IMDbPro/images/default_name._V142442227_UY47_CR7,0,32,47_.png\" width=\"32\"/></noscript>\n",
       " </a>,\n",
       " <a class=\"a-size- a-align- a-link-\" href=\"https://pro.imdb.com/name/nm10086288/?ref_=tt_pub_cst_19\">Yesheng Chen</a>,\n",
       " <a class=\"a-size- a-align- a-link-\" href=\"#\"> See fewer\n",
       " </a>,\n",
       " <a class=\"a-size- a-align- a-link-\" href=\"https://pro.imdb.com/title/tt8876290/?ref_=tt_pub_cst_kf_19\"><span>Eagles and Youngster<span class=\"a-color-secondary\"> (2018)</span></span></a>,\n",
       " <a class=\"a-size- a-align- a-link-\" href=\"https://pro.imdb.com/name/nm10918511/?ref_=tt_pub_cst_img_20\"> <img alt=\"Mia Diop's primary photo\" class=\"aok-align-center primary_image_default_border a-lazy-loaded\" data-a-hires=\"https://m.media-amazon.com/images/G/01/IMDbPro/images/default_name._V142442227_UY94_CR15,0,64,94_.png\" data-src=\"https://m.media-amazon.com/images/G/01/IMDbPro/images/default_name._V142442227_UY47_CR7,0,32,47_.png\" height=\"47\" src=\"https://images-na.ssl-images-amazon.com/images/G/01/x-locale/common/grey-pixel.gif\" width=\"32\"/><noscript><img alt=\"Mia Diop's primary photo\" height=\"47\" src=\"https://m.media-amazon.com/images/G/01/IMDbPro/images/default_name._V142442227_UY47_CR7,0,32,47_.png\" width=\"32\"/></noscript>\n",
       " </a>,\n",
       " <a class=\"a-size- a-align- a-link-\" href=\"https://pro.imdb.com/name/nm10918511/?ref_=tt_pub_cst_20\">Mia Diop</a>,\n",
       " <a class=\"a-size- a-align- a-link-\" href=\"#\"> See fewer\n",
       " </a>,\n",
       " <a class=\"a-size- a-align- a-link-\" href=\"https://pro.imdb.com/title/tt5671298/?ref_=tt_pub_cst_kf_20\"><span>Asura<span class=\"a-color-secondary\"> (2018)</span></span></a>,\n",
       " <a class=\"a-size- a-align- a-link-\" href=\"https://pro.imdb.com/name/nm4069148/?ref_=tt_pub_cst_img_21\"> <img alt=\"Gong Geer's primary photo\" class=\"aok-align-center primary_image_default_border a-lazy-loaded\" data-a-hires=\"https://m.media-amazon.com/images/G/01/IMDbPro/images/default_name._V142442227_UY94_CR15,0,64,94_.png\" data-src=\"https://m.media-amazon.com/images/G/01/IMDbPro/images/default_name._V142442227_UY47_CR7,0,32,47_.png\" height=\"47\" src=\"https://images-na.ssl-images-amazon.com/images/G/01/x-locale/common/grey-pixel.gif\" width=\"32\"/><noscript><img alt=\"Gong Geer's primary photo\" height=\"47\" src=\"https://m.media-amazon.com/images/G/01/IMDbPro/images/default_name._V142442227_UY47_CR7,0,32,47_.png\" width=\"32\"/></noscript>\n",
       " </a>,\n",
       " <a class=\"a-size- a-align- a-link-\" href=\"https://pro.imdb.com/name/nm4069148/?ref_=tt_pub_cst_21\">Gong Geer</a>,\n",
       " <a class=\"a-size- a-align- a-link-\" href=\"#\"> See fewer\n",
       " </a>,\n",
       " <a class=\"a-size- a-align- a-link-\" href=\"https://pro.imdb.com/title/tt1722513/?ref_=tt_pub_cst_kf_21\"><span>The Butcher, the Chef, and the Swordsman<span class=\"a-color-secondary\"> (2010)</span></span></a>,\n",
       " <a class=\"a-size- a-align- a-link-\" href=\"https://pro.imdb.com/name/nm10480195/?ref_=tt_pub_cst_img_22\"> <img alt=\"Hexuan Guo's primary photo\" class=\"aok-align-center primary_image_default_border a-lazy-loaded\" data-a-hires=\"https://m.media-amazon.com/images/G/01/IMDbPro/images/default_name._V142442227_UY94_CR15,0,64,94_.png\" data-src=\"https://m.media-amazon.com/images/G/01/IMDbPro/images/default_name._V142442227_UY47_CR7,0,32,47_.png\" height=\"47\" src=\"https://images-na.ssl-images-amazon.com/images/G/01/x-locale/common/grey-pixel.gif\" width=\"32\"/><noscript><img alt=\"Hexuan Guo's primary photo\" height=\"47\" src=\"https://m.media-amazon.com/images/G/01/IMDbPro/images/default_name._V142442227_UY47_CR7,0,32,47_.png\" width=\"32\"/></noscript>\n",
       " </a>,\n",
       " <a class=\"a-size- a-align- a-link-\" href=\"https://pro.imdb.com/name/nm10480195/?ref_=tt_pub_cst_22\">Hexuan Guo</a>,\n",
       " <a class=\"a-size- a-align- a-link-\" href=\"#\"> See fewer\n",
       " </a>,\n",
       " <a class=\"a-size- a-align- a-link-\" href=\"https://pro.imdb.com/title/tt10773262/?ref_=tt_pub_cst_kf_22\"><span>Project 17: Side by Side<span class=\"a-color-secondary\"> (2019)</span></span></a>,\n",
       " <a class=\"a-size- a-align- a-link-\" href=\"https://pro.imdb.com/name/nm10480196/?ref_=tt_pub_cst_img_23\"> <img alt=\"Zhuozhao Li's primary photo\" class=\"aok-align-center primary_image_default_border a-lazy-loaded\" data-a-hires=\"https://m.media-amazon.com/images/G/01/IMDbPro/images/default_name._V142442227_UY94_CR15,0,64,94_.png\" data-src=\"https://m.media-amazon.com/images/G/01/IMDbPro/images/default_name._V142442227_UY47_CR7,0,32,47_.png\" height=\"47\" src=\"https://images-na.ssl-images-amazon.com/images/G/01/x-locale/common/grey-pixel.gif\" width=\"32\"/><noscript><img alt=\"Zhuozhao Li's primary photo\" height=\"47\" src=\"https://m.media-amazon.com/images/G/01/IMDbPro/images/default_name._V142442227_UY47_CR7,0,32,47_.png\" width=\"32\"/></noscript>\n",
       " </a>,\n",
       " <a class=\"a-size- a-align- a-link-\" href=\"https://pro.imdb.com/name/nm10480196/?ref_=tt_pub_cst_23\">Zhuozhao Li</a>,\n",
       " <a class=\"a-size- a-align- a-link-\" href=\"#\"> See fewer\n",
       " </a>,\n",
       " <a class=\"a-size- a-align- a-link-\" href=\"https://pro.imdb.com/title/tt5483478/?ref_=tt_pub_cst_kf_23\"><span>Sha Zhu<span class=\"a-color-secondary\"> (2015)</span></span></a>,\n",
       " <a class=\"a-size- a-align- a-link-\" href=\"https://pro.imdb.com/name/nm7925801/?ref_=tt_pub_cst_img_24\"> <img alt=\"Shavvon Lin's primary photo\" class=\"aok-align-center primary_image_default_border a-lazy-loaded\" data-a-hires=\"https://m.media-amazon.com/images/M/MV5BMzA4ZWQ0YTktMWM4My00ZTNkLWI4MDEtMjY2NWVjMTE1YjQ5XkEyXkFqcGdeQXVyNTE2NzkyMjY@._V1_UY94_CR1,0,64,94_.jpg\" data-src=\"https://m.media-amazon.com/images/M/MV5BMzA4ZWQ0YTktMWM4My00ZTNkLWI4MDEtMjY2NWVjMTE1YjQ5XkEyXkFqcGdeQXVyNTE2NzkyMjY@._V1_UY47_CR1,0,32,47_.jpg\" height=\"47\" src=\"https://images-na.ssl-images-amazon.com/images/G/01/x-locale/common/grey-pixel.gif\" width=\"32\"/><noscript><img alt=\"Shavvon Lin's primary photo\" height=\"47\" src=\"https://m.media-amazon.com/images/M/MV5BMzA4ZWQ0YTktMWM4My00ZTNkLWI4MDEtMjY2NWVjMTE1YjQ5XkEyXkFqcGdeQXVyNTE2NzkyMjY@._V1_UY47_CR1,0,32,47_.jpg\" width=\"32\"/></noscript>\n",
       " </a>,\n",
       " <a class=\"a-size- a-align- a-link-\" href=\"https://pro.imdb.com/name/nm7925801/?ref_=tt_pub_cst_24\">Shavvon Lin</a>,\n",
       " <a class=\"a-size- a-align- a-link-\" href=\"#\"> See fewer\n",
       " </a>,\n",
       " <a class=\"a-size- a-align- a-link-\" href=\"https://pro.imdb.com/title/tt6966626/?ref_=tt_pub_cst_kf_24\"><span>Selena Gomez: Bad Liar<span class=\"a-color-secondary\"> (2017)</span></span></a>,\n",
       " <a class=\"a-size- a-align- a-link-\" href=\"https://pro.imdb.com/name/nm4772813/?ref_=tt_pub_cst_img_25\"> <img alt=\"Yang Lu's primary photo\" class=\"aok-align-center primary_image_default_border a-lazy-loaded\" data-a-hires=\"https://m.media-amazon.com/images/G/01/IMDbPro/images/default_name._V142442227_UY94_CR15,0,64,94_.png\" data-src=\"https://m.media-amazon.com/images/G/01/IMDbPro/images/default_name._V142442227_UY47_CR7,0,32,47_.png\" height=\"47\" src=\"https://images-na.ssl-images-amazon.com/images/G/01/x-locale/common/grey-pixel.gif\" width=\"32\"/><noscript><img alt=\"Yang Lu's primary photo\" height=\"47\" src=\"https://m.media-amazon.com/images/G/01/IMDbPro/images/default_name._V142442227_UY47_CR7,0,32,47_.png\" width=\"32\"/></noscript>\n",
       " </a>,\n",
       " <a class=\"a-size- a-align- a-link-\" href=\"https://pro.imdb.com/name/nm4772813/?ref_=tt_pub_cst_25\">Yang Lu</a>,\n",
       " <a class=\"a-size- a-align- a-link-\" href=\"#\"> See fewer\n",
       " </a>,\n",
       " <a class=\"a-size- a-align- a-link-\" href=\"https://pro.imdb.com/title/tt4019426/?ref_=tt_pub_cst_kf_25\"><span>Brotherhood of Blades<span class=\"a-color-secondary\"> (2014)</span></span></a>,\n",
       " <a class=\"a-size- a-align- a-link-\" href=\"https://pro.imdb.com/name/nm3420473/?ref_=tt_pub_cst_img_26\"> <img alt=\"Zachary Alexander Rice's primary photo\" class=\"aok-align-center primary_image_default_border a-lazy-loaded\" data-a-hires=\"https://m.media-amazon.com/images/M/MV5BZDdlZWE1MWItZGJlZi00YmNkLWE0MDktNjFhNDRiZDJkZGIzXkEyXkFqcGdeQXVyMjEwODU0NTA@._V1_UY94_CR5,0,64,94_.jpg\" data-src=\"https://m.media-amazon.com/images/M/MV5BZDdlZWE1MWItZGJlZi00YmNkLWE0MDktNjFhNDRiZDJkZGIzXkEyXkFqcGdeQXVyMjEwODU0NTA@._V1_UY47_CR2,0,32,47_.jpg\" height=\"47\" src=\"https://images-na.ssl-images-amazon.com/images/G/01/x-locale/common/grey-pixel.gif\" width=\"32\"/><noscript><img alt=\"Zachary Alexander Rice's primary photo\" height=\"47\" src=\"https://m.media-amazon.com/images/M/MV5BZDdlZWE1MWItZGJlZi00YmNkLWE0MDktNjFhNDRiZDJkZGIzXkEyXkFqcGdeQXVyMjEwODU0NTA@._V1_UY47_CR2,0,32,47_.jpg\" width=\"32\"/></noscript>\n",
       " </a>,\n",
       " <a class=\"a-size- a-align- a-link-\" href=\"https://pro.imdb.com/name/nm3420473/?ref_=tt_pub_cst_26\">Zachary Alexander Rice</a>,\n",
       " <a class=\"a-size- a-align- a-link-\" href=\"#\"> See fewer\n",
       " </a>,\n",
       " <a class=\"a-size- a-align- a-link-\" href=\"https://pro.imdb.com/title/tt4225622/?ref_=tt_pub_cst_kf_26\"><span>The Babysitter<span class=\"a-color-secondary\"> (I)</span><span class=\"a-color-secondary\"> (2017)</span></span></a>,\n",
       " <a class=\"a-size- a-align- a-link-\" href=\"https://pro.imdb.com/name/nm2856378/?ref_=tt_pub_cst_img_27\"> <img alt=\"Shinichi Takashima's primary photo\" class=\"aok-align-center primary_image_default_border a-lazy-loaded\" data-a-hires=\"https://m.media-amazon.com/images/G/01/IMDbPro/images/default_name._V142442227_UY94_CR15,0,64,94_.png\" data-src=\"https://m.media-amazon.com/images/G/01/IMDbPro/images/default_name._V142442227_UY47_CR7,0,32,47_.png\" height=\"47\" src=\"https://images-na.ssl-images-amazon.com/images/G/01/x-locale/common/grey-pixel.gif\" width=\"32\"/><noscript><img alt=\"Shinichi Takashima's primary photo\" height=\"47\" src=\"https://m.media-amazon.com/images/G/01/IMDbPro/images/default_name._V142442227_UY47_CR7,0,32,47_.png\" width=\"32\"/></noscript>\n",
       " </a>,\n",
       " <a class=\"a-size- a-align- a-link-\" href=\"https://pro.imdb.com/name/nm2856378/?ref_=tt_pub_cst_27\">Shinichi Takashima</a>,\n",
       " <a class=\"a-size- a-align- a-link-\" href=\"#\"> See fewer\n",
       " </a>,\n",
       " <a class=\"a-size- a-align- a-link-\" href=\"https://pro.imdb.com/title/tt1410063/?ref_=tt_pub_cst_kf_27\"><span>The Flowers of War<span class=\"a-color-secondary\"> (2011)</span></span></a>,\n",
       " <a class=\"a-size- a-align- a-link-\" href=\"https://pro.imdb.com/name/nm10480194/?ref_=tt_pub_cst_img_28\"> <img alt=\"Luoyi Tao's primary photo\" class=\"aok-align-center primary_image_default_border a-lazy-loaded\" data-a-hires=\"https://m.media-amazon.com/images/M/MV5BZjE5NDJjZjUtNDlmZS00OTVkLWEzODItMGUyNjkwMTg5OTg2XkEyXkFqcGdeQXVyMjg0MTI5NzQ@._V1_UX64_CR0,0,64,94_.jpg\" data-src=\"https://m.media-amazon.com/images/M/MV5BZjE5NDJjZjUtNDlmZS00OTVkLWEzODItMGUyNjkwMTg5OTg2XkEyXkFqcGdeQXVyMjg0MTI5NzQ@._V1_UX32_CR0,0,32,47_.jpg\" height=\"47\" src=\"https://images-na.ssl-images-amazon.com/images/G/01/x-locale/common/grey-pixel.gif\" width=\"32\"/><noscript><img alt=\"Luoyi Tao's primary photo\" height=\"47\" src=\"https://m.media-amazon.com/images/M/MV5BZjE5NDJjZjUtNDlmZS00OTVkLWEzODItMGUyNjkwMTg5OTg2XkEyXkFqcGdeQXVyMjg0MTI5NzQ@._V1_UX32_CR0,0,32,47_.jpg\" width=\"32\"/></noscript>\n",
       " </a>,\n",
       " <a class=\"a-size- a-align- a-link-\" href=\"https://pro.imdb.com/name/nm10480194/?ref_=tt_pub_cst_28\">Luoyi Tao</a>,\n",
       " <a class=\"a-size- a-align- a-link-\" href=\"#\"> See fewer\n",
       " </a>,\n",
       " <a class=\"a-size- a-align- a-link-\" href=\"https://pro.imdb.com/title/tt3868504/?ref_=tt_pub_cst_kf_28\"><span>Wo de hun yin shui zuo zhu<span class=\"a-color-secondary\"> (2015)</span></span></a>,\n",
       " <a class=\"a-size- a-align- a-link-\" href=\"https://pro.imdb.com/name/nm7613071/?ref_=tt_pub_cst_img_29\"> <img alt=\"Zhi Wang's primary photo\" class=\"aok-align-center primary_image_default_border a-lazy-loaded\" data-a-hires=\"https://m.media-amazon.com/images/M/MV5BZWQ4ODcwYTMtNTU0MS00OThkLWFmM2MtNjA1NGVmZmQ0NzFiXkEyXkFqcGdeQXVyMjg0MTI5NzQ@._V1_UY94_CR1,0,64,94_.jpg\" data-src=\"https://m.media-amazon.com/images/M/MV5BZWQ4ODcwYTMtNTU0MS00OThkLWFmM2MtNjA1NGVmZmQ0NzFiXkEyXkFqcGdeQXVyMjg0MTI5NzQ@._V1_UY47_CR0,0,32,47_.jpg\" height=\"47\" src=\"https://images-na.ssl-images-amazon.com/images/G/01/x-locale/common/grey-pixel.gif\" width=\"32\"/><noscript><img alt=\"Zhi Wang's primary photo\" height=\"47\" src=\"https://m.media-amazon.com/images/M/MV5BZWQ4ODcwYTMtNTU0MS00OThkLWFmM2MtNjA1NGVmZmQ0NzFiXkEyXkFqcGdeQXVyMjg0MTI5NzQ@._V1_UY47_CR0,0,32,47_.jpg\" width=\"32\"/></noscript>\n",
       " </a>,\n",
       " <a class=\"a-size- a-align- a-link-\" href=\"https://pro.imdb.com/name/nm7613071/?ref_=tt_pub_cst_29\">Zhi Wang</a>,\n",
       " <a class=\"a-size- a-align- a-link-\" href=\"#\"> See fewer\n",
       " </a>,\n",
       " <a class=\"a-size- a-align- a-link-\" href=\"https://pro.imdb.com/title/tt5061814/?ref_=tt_pub_cst_kf_29\"><span>Goodbye Mr. Loser<span class=\"a-color-secondary\"> (2015)</span></span></a>,\n",
       " <a class=\"a-size- a-align- a-link-\" href=\"https://pro.imdb.com/name/nm10697307/?ref_=tt_pub_cst_img_30\"> <img alt=\"Lv You's primary photo\" class=\"aok-align-center primary_image_default_border a-lazy-loaded\" data-a-hires=\"https://m.media-amazon.com/images/G/01/IMDbPro/images/default_name._V142442227_UY94_CR15,0,64,94_.png\" data-src=\"https://m.media-amazon.com/images/G/01/IMDbPro/images/default_name._V142442227_UY47_CR7,0,32,47_.png\" height=\"47\" src=\"https://images-na.ssl-images-amazon.com/images/G/01/x-locale/common/grey-pixel.gif\" width=\"32\"/><noscript><img alt=\"Lv You's primary photo\" height=\"47\" src=\"https://m.media-amazon.com/images/G/01/IMDbPro/images/default_name._V142442227_UY47_CR7,0,32,47_.png\" width=\"32\"/></noscript>\n",
       " </a>,\n",
       " <a class=\"a-size- a-align- a-link-\" href=\"https://pro.imdb.com/name/nm10697307/?ref_=tt_pub_cst_30\">Lv You</a>,\n",
       " <a class=\"a-size- a-align- a-link-\" href=\"#\"> See fewer\n",
       " </a>,\n",
       " <a class=\"a-size- a-align- a-link-\" href=\"https://pro.imdb.com/title/tt10489348/?ref_=tt_pub_cst_kf_30\"><span>Gone with the Light<span class=\"a-color-secondary\"> (2019)</span></span></a>,\n",
       " <a class=\"a-size- a-align- a-link-\" href=\"https://pro.imdb.com/name/nm4915348/?ref_=tt_pub_cst_img_31\"> <img alt=\"Xiaobei Zhang's primary photo\" class=\"aok-align-center primary_image_default_border a-lazy-loaded\" data-a-hires=\"https://m.media-amazon.com/images/G/01/IMDbPro/images/default_name._V142442227_UY94_CR15,0,64,94_.png\" data-src=\"https://m.media-amazon.com/images/G/01/IMDbPro/images/default_name._V142442227_UY47_CR7,0,32,47_.png\" height=\"47\" src=\"https://images-na.ssl-images-amazon.com/images/G/01/x-locale/common/grey-pixel.gif\" width=\"32\"/><noscript><img alt=\"Xiaobei Zhang's primary photo\" height=\"47\" src=\"https://m.media-amazon.com/images/G/01/IMDbPro/images/default_name._V142442227_UY47_CR7,0,32,47_.png\" width=\"32\"/></noscript>\n",
       " </a>,\n",
       " <a class=\"a-size- a-align- a-link-\" href=\"https://pro.imdb.com/name/nm4915348/?ref_=tt_pub_cst_31\">Xiaobei Zhang</a>,\n",
       " <a class=\"a-size- a-align- a-link-\" href=\"#\"> See fewer\n",
       " </a>,\n",
       " <a class=\"a-size- a-align- a-link-\" href=\"https://pro.imdb.com/title/tt4886030/?ref_=tt_pub_cst_kf_31\"><span>Time to Love<span class=\"a-color-secondary\"> (2015)</span></span></a>,\n",
       " <a class=\"a-size- a-align- a-link-\" href=\"https://pro.imdb.com/name/nm10482230/?ref_=tt_pub_cst_img_32\"> <img alt=\"Zixian Zhang's primary photo\" class=\"aok-align-center primary_image_default_border a-lazy-loaded\" data-a-hires=\"https://m.media-amazon.com/images/G/01/IMDbPro/images/default_name._V142442227_UY94_CR15,0,64,94_.png\" data-src=\"https://m.media-amazon.com/images/G/01/IMDbPro/images/default_name._V142442227_UY47_CR7,0,32,47_.png\" height=\"47\" src=\"https://images-na.ssl-images-amazon.com/images/G/01/x-locale/common/grey-pixel.gif\" width=\"32\"/><noscript><img alt=\"Zixian Zhang's primary photo\" height=\"47\" src=\"https://m.media-amazon.com/images/G/01/IMDbPro/images/default_name._V142442227_UY47_CR7,0,32,47_.png\" width=\"32\"/></noscript>\n",
       " </a>,\n",
       " <a class=\"a-size- a-align- a-link-\" href=\"https://pro.imdb.com/name/nm10482230/?ref_=tt_pub_cst_32\">Zixian Zhang</a>,\n",
       " <a class=\"a-size- a-align- a-link-\" href=\"#\"> See fewer\n",
       " </a>,\n",
       " <a class=\"a-size- a-align- a-link-\" href=\"https://pro.imdb.com/title/tt10423842/?ref_=tt_pub_cst_kf_32\"><span>A Live Kidnap Show<span class=\"a-color-secondary\"> (2019)</span></span></a>,\n",
       " <a class=\"a-size- a-align- a-link-\" href=\"https://pro.imdb.com/name/nm9361959/?ref_=tt_pub_cst_img_33\"> <img alt=\"Gianluca Zoppa's primary photo\" class=\"aok-align-center primary_image_default_border a-lazy-loaded\" data-a-hires=\"https://m.media-amazon.com/images/M/MV5BZmYzNWQyZTItYjJiNS00NjhjLWFjNmUtNzBiZTE2NGZmZjNiXkEyXkFqcGdeQXVyODE1Nzc3ODY@._V1_UX64_CR0,0,64,94_.jpg\" data-src=\"https://m.media-amazon.com/images/M/MV5BZmYzNWQyZTItYjJiNS00NjhjLWFjNmUtNzBiZTE2NGZmZjNiXkEyXkFqcGdeQXVyODE1Nzc3ODY@._V1_UX32_CR0,0,32,47_.jpg\" height=\"47\" src=\"https://images-na.ssl-images-amazon.com/images/G/01/x-locale/common/grey-pixel.gif\" width=\"32\"/><noscript><img alt=\"Gianluca Zoppa's primary photo\" height=\"47\" src=\"https://m.media-amazon.com/images/M/MV5BZmYzNWQyZTItYjJiNS00NjhjLWFjNmUtNzBiZTE2NGZmZjNiXkEyXkFqcGdeQXVyODE1Nzc3ODY@._V1_UX32_CR0,0,32,47_.jpg\" width=\"32\"/></noscript>\n",
       " </a>,\n",
       " <a class=\"a-size- a-align- a-link-\" href=\"https://pro.imdb.com/name/nm9361959/?ref_=tt_pub_cst_33\">Gianluca Zoppa</a>,\n",
       " <a class=\"a-size- a-align- a-link-\" href=\"#\"> See fewer\n",
       " </a>,\n",
       " <a class=\"a-size- a-align- a-link-\" href=\"https://pro.imdb.com/title/tt7801928/?ref_=tt_pub_cst_kf_33\"><span>The Red Death<span class=\"a-color-secondary\"> (2017)</span></span></a>,\n",
       " <a class=\"a-link-normal\" data-bypasspublicrestriction=\"true\" href=\"/login/ap?imdbPageAction=signUp&amp;u=%2F\"><p class=\"a-text-center\"><span class=\"a-button a-button-primary\"><span class=\"a-button-inner\"><input class=\"a-button-input\" type=\"submit\"/><span aria-hidden=\"true\" class=\"a-button-text\"> Start your 30-Day free trial\n",
       " </span></span></span></p></a>,\n",
       " <a class=\"a-size- a-align- a-link-\" href=\"https://pro.imdb.com/title/tt7605074/websites?ref_=tt_pub_med_sites\"> 69 external reviews\n",
       " &amp; 20 more links\n",
       " </a>,\n",
       " <a class=\"a-size- a-align- a-link-\" href=\"https://contribute.imdb.com/updates?edit=tt7605074&amp;ref_=pro_tt_pub_edit\"><span class=\"a-button a-button-primary\"><span class=\"a-button-inner\"><input class=\"a-button-input\" type=\"submit\"/><span aria-hidden=\"true\" class=\"a-button-text a-text-center\"> Edit page\n",
       " </span></span></span></a>,\n",
       " <a class=\"sprite logo over_light\" href=\"https://pro.imdb.com/?ref_=tt_pub_ftr_hm_i\"></a>,\n",
       " <a class=\"a-size- a-align- a-link- open_reframe icon clickable_share_link a-text-normal\" href=\"https://www.reframeproject.org\" rel=\"noopener\" target=\"_blank\"><span class=\"a-declarative\" data-action=\"log_event\" data-log_event='{\"pageAction\": \"footer_reframe\"}'> <img src=\"https://m.media-amazon.com/images/G/01/IMDbPro/images/header_footer/reframe_icon._CB434640743_.png\" width=\"30\"/>\n",
       " </span></a>,\n",
       " <a class=\"a-size- a-align- a-link- open_reframe clickable_share_link\" href=\"https://www.reframeproject.org\" rel=\"noopener\" target=\"_blank\"><span class=\"a-declarative\" data-action=\"log_event\" data-log_event='{\"pageAction\": \"footer_reframe\"}'> ReFrame\n",
       " </span></a>,\n",
       " <a href=\"https://pro.imdb.com/?ref_=tt_pub_ftr_hm\">Home</a>,\n",
       " <a href=\"https://pro.imdb.com/mypage?ref_=tt_pub_ftr_myp\">My Page</a>,\n",
       " <a href=\"https://pro.imdb.com/jobs?ref_=tt_pub_ftr_cn\">Jobs</a>,\n",
       " <a class=\"a-link-normal\" href=\"/title/tt7605074?site_preference=mobile&amp;ref_=tt_pub_ftr_mobl\">View Mobile Site</a>,\n",
       " <a href=\"https://pro.imdb.com/people?ref_=tt_pub_ftr_ppl#sort=ranking\">People</a>,\n",
       " <a href=\"https://pro.imdb.com/inproduction/development?ref_=tt_pub_ftr_tt#type=movie&amp;sort=ranking\">Titles</a>,\n",
       " <a href=\"https://pro.imdb.com/companies?ref_=tt_pub_ftr_co\">Companies</a>,\n",
       " <a href=\"https://pro.imdb.com/news?ref_=tt_pub_ftr_news\">News</a>,\n",
       " <a href=\"https://pro.imdb.com/tracking?ref_=tt_pub_ftr_mypt\">Pages You Track</a>,\n",
       " <a href=\"https://pro.imdb.com/list?ref_=tt_pub_ftr_list\">Your Lists</a>,\n",
       " <a href=\"https://pro.imdb.com/casting/breakdowns?ref_=tt_pub_ftr_mycb\">Your Projects</a>,\n",
       " <a href=\"https://contribute.imdb.com/updates/history?ref_=tt_pub_ftr_subm\" target=\"_self\">Your Submissions</a>,\n",
       " <a href=\"https://pro.imdb.com/account?ref_=tt_pub_ftr_act\">Account Settings</a>,\n",
       " <a href=\"https://pro.imdb.com/account/cancel?ref_=tt_pub_ftr_canc\">Cancel</a>,\n",
       " <a href=\"http://www.imdb.com/conditions?ref_=pro_tt_pub_ftr_copy\" target=\"_blank\">Copyright 2020</a>,\n",
       " <a href=\"https://pro.imdb.com/subagreement?ref_=tt_pub_ftr_subagree\">Subscriber Agreement</a>,\n",
       " <a href=\"http://www.imdb.com/privacy?ref_=pro_tt_pub_ftr_privpol\" target=\"_blank\">Privacy Policy</a>,\n",
       " <a href=\"https://help.imdb.com/contact?ref_=pro_tt_pub_ftr_contactus\" target=\"_blank\">Contact Us</a>,\n",
       " <a href=\"https://help.imdb.com/imdbpro?ref_=pro_tt_pub_ftr_help\" target=\"_blank\">Help</a>]"
      ]
     },
     "execution_count": 58,
     "metadata": {},
     "output_type": "execute_result"
    }
   ],
   "source": [
    "#writers\n",
    "soup.find(id=\"const_page_summary_section\").find_all('span', class_='a-color-secondary')[2].find_all_next('a')"
   ]
  },
  {
   "cell_type": "code",
   "execution_count": 26,
   "metadata": {
    "scrolled": true
   },
   "outputs": [
    {
     "data": {
      "text/plain": [
       "[<div class=\"a-section a-spacing-top-mini\">\n",
       " <p class=\"a-text-left a-size-base-plus a-color-secondary\">Become a member to see MOVIEmeter and news information about Liu lang di qiu.</p>\n",
       " <a class=\"a-link-normal\" data-bypasspublicrestriction=\"true\" href=\"/login/ap?imdbPageAction=signUp&amp;u=%2F\"><p class=\"a-text-left\"><span class=\"a-button a-button-primary\"><span class=\"a-button-inner\"><input class=\"a-button-input\" type=\"submit\"/><span aria-hidden=\"true\" class=\"a-button-text\"> Start your 30-Day free trial\n",
       " </span></span></span></p></a>\n",
       " </div>]"
      ]
     },
     "execution_count": 26,
     "metadata": {},
     "output_type": "execute_result"
    }
   ],
   "source": [
    "soup.find(id=\"popularity_widget\").find_all('div', class_='a-section a-spacing-top-mini')"
   ]
  },
  {
   "cell_type": "code",
   "execution_count": 30,
   "metadata": {},
   "outputs": [
    {
     "data": {
      "text/plain": [
       "[]"
      ]
     },
     "execution_count": 30,
     "metadata": {},
     "output_type": "execute_result"
    }
   ],
   "source": [
    "soup.find(id=\"popularity_widget\").find_all('a' , class_='a-size- a-align- a-link-')\n",
    "\n",
    "#<span class=\"a-size-medium aok-align-center\"><a class=\"a-size- a-align- a-link-\" href=\"https://pro.imdb.com/news/title/tt2294629/?ref_=tt_trending_news\">4,229</a></span>"
   ]
  },
  {
   "cell_type": "code",
   "execution_count": 126,
   "metadata": {},
   "outputs": [],
   "source": []
  },
  {
   "cell_type": "code",
   "execution_count": 141,
   "metadata": {
    "scrolled": false
   },
   "outputs": [],
   "source": [
    "#find news articles?\n",
    "#soup.find_all(class_= 'a-size- a-align- a-link-')\n"
   ]
  },
  {
   "cell_type": "code",
   "execution_count": 27,
   "metadata": {},
   "outputs": [
    {
     "ename": "AttributeError",
     "evalue": "'NoneType' object has no attribute 'findNext'",
     "output_type": "error",
     "traceback": [
      "\u001b[0;31m---------------------------------------------------------------------------\u001b[0m",
      "\u001b[0;31mAttributeError\u001b[0m                            Traceback (most recent call last)",
      "\u001b[0;32m<ipython-input-27-a426fcd91808>\u001b[0m in \u001b[0;36m<module>\u001b[0;34m\u001b[0m\n\u001b[0;32m----> 1\u001b[0;31m \u001b[0msoup\u001b[0m\u001b[0;34m.\u001b[0m\u001b[0mfind\u001b[0m\u001b[0;34m(\u001b[0m\u001b[0;34m'a'\u001b[0m\u001b[0;34m,\u001b[0m \u001b[0mhref\u001b[0m \u001b[0;34m=\u001b[0m \u001b[0;34m'https://pro.imdb.com/news/title/tt2294629/?ref_=tt_trending_news'\u001b[0m\u001b[0;34m)\u001b[0m\u001b[0;34m.\u001b[0m\u001b[0mfindNext\u001b[0m\u001b[0;34m(\u001b[0m\u001b[0;34m)\u001b[0m\u001b[0;34m\u001b[0m\u001b[0;34m\u001b[0m\u001b[0m\n\u001b[0m",
      "\u001b[0;31mAttributeError\u001b[0m: 'NoneType' object has no attribute 'findNext'"
     ]
    }
   ],
   "source": [
    "soup.find('a', href = 'https://pro.imdb.com/news/title/tt2294629/?ref_=tt_trending_news')"
   ]
  },
  {
   "cell_type": "code",
   "execution_count": null,
   "metadata": {},
   "outputs": [],
   "source": [
    "<a class=\"a-size- a-align- a-link-\" href=\"https://pro.imdb.com/news/title/tt2294629/?ref_=tt_trending_news\">4,229</a>"
   ]
  },
  {
   "cell_type": "code",
   "execution_count": 154,
   "metadata": {},
   "outputs": [],
   "source": [
    "#soup.find(id = \"contacts\")"
   ]
  },
  {
   "cell_type": "code",
   "execution_count": 157,
   "metadata": {},
   "outputs": [
    {
     "data": {
      "text/plain": [
       "[]"
      ]
     },
     "execution_count": 157,
     "metadata": {},
     "output_type": "execute_result"
    }
   ],
   "source": [
    "soup.find_all(text= 'Walt Disney')"
   ]
  },
  {
   "cell_type": "code",
   "execution_count": null,
   "metadata": {},
   "outputs": [],
   "source": [
    "#avengers https://pro.imdb.com/title/tt4154796/\n",
    "#frozen https://pro.imdb.com/title/tt2294629/"
   ]
  },
  {
   "cell_type": "code",
   "execution_count": 43,
   "metadata": {},
   "outputs": [
    {
     "data": {
      "text/plain": [
       "<div class=\"a-row header highlight_header background_color_wave awards_summary\"><div class=\"a-column a-span12 a-span-last\"><span class=\"a-size-base a-text-bold\"> Awards\n",
       "</span></div></div>"
      ]
     },
     "execution_count": 43,
     "metadata": {},
     "output_type": "execute_result"
    }
   ],
   "source": [
    "soup.find(class_='a-row header highlight_header background_color_wave awards_summary')\n",
    "          \n",
    "#<div class=\"a-column a-span12 a-span-last\"><span class=\"a-size-base a-text-bold\"> Awards\n",
    "#</span></div></div>"
   ]
  },
  {
   "cell_type": "code",
   "execution_count": 104,
   "metadata": {},
   "outputs": [
    {
     "ename": "TypeError",
     "evalue": "'NoneType' object is not subscriptable",
     "output_type": "error",
     "traceback": [
      "\u001b[0;31m---------------------------------------------------------------------------\u001b[0m",
      "\u001b[0;31mTypeError\u001b[0m                                 Traceback (most recent call last)",
      "\u001b[0;32m<ipython-input-104-ea47ea141bb4>\u001b[0m in \u001b[0;36m<module>\u001b[0;34m\u001b[0m\n\u001b[0;32m----> 1\u001b[0;31m \u001b[0msoup\u001b[0m\u001b[0;34m.\u001b[0m\u001b[0mfind\u001b[0m\u001b[0;34m(\u001b[0m\u001b[0mid\u001b[0m \u001b[0;34m=\u001b[0m \u001b[0;34m'contacts'\u001b[0m\u001b[0;34m)\u001b[0m\u001b[0;34m[\u001b[0m\u001b[0;36m0\u001b[0m\u001b[0;34m]\u001b[0m\u001b[0;34m\u001b[0m\u001b[0;34m\u001b[0m\u001b[0m\n\u001b[0m",
      "\u001b[0;31mTypeError\u001b[0m: 'NoneType' object is not subscriptable"
     ]
    }
   ],
   "source": [
    "#soup.find(id = 'contacts')"
   ]
  },
  {
   "cell_type": "code",
   "execution_count": 18,
   "metadata": {},
   "outputs": [
    {
     "data": {
      "text/plain": [
       "[]"
      ]
     },
     "execution_count": 18,
     "metadata": {},
     "output_type": "execute_result"
    }
   ],
   "source": [
    "soup.find(id='title_cast_sortable_table').find_all(class_='a-size- a-align- a-link- ttip')"
   ]
  },
  {
   "cell_type": "code",
   "execution_count": null,
   "metadata": {},
   "outputs": [],
   "source": [
    "<tr data-cast-listing-index=\"1\">\n",
    "<td colspan=\"1\"><div class=\"a-section a-spacing-mini a-spacing-top-mini\">\n",
    "<div class=\"a-fixed-left-grid\"><div class=\"a-fixed-left-grid-inner\" style=\"padding-left:46px\"><div class=\"a-fixed-left-grid-col a-col-left\" style=\"width:46px;margin-left:-46px;float:left;\"><a class=\"a-size- a-align- a-link- ttip\" href=\"https://pro.imdb.com/name/nm0068338/?ref_=tt_cst_img_1\"> <img alt=\"Kristen Bell's primary photo\" src=\"https://m.media-amazon.com/images/M/MV5BMjA1Njc0MTUzN15BMl5BanBnXkFtZTgwNTg1MjEwNDI@._V1_UX64_CR0,0,64,94_.jpg\" class=\"aok-align-center primary_image_default_border\" height=\"47\" width=\"32\" data-a-hires=\"https://m.media-amazon.com/images/M/MV5BMjA1Njc0MTUzN15BMl5BanBnXkFtZTgwNTg1MjEwNDI@._V1_UX64_CR0,0,64,94_.jpg\" data-src=\"https://m.media-amazon.com/images/M/MV5BMjA1Njc0MTUzN15BMl5BanBnXkFtZTgwNTg1MjEwNDI@._V1_UX32_CR0,0,32,47_.jpg\"><noscript><img alt=\"Kristen Bell's primary photo\" src=\"https://m.media-amazon.com/images/M/MV5BMjA1Njc0MTUzN15BMl5BanBnXkFtZTgwNTg1MjEwNDI@._V1_UX32_CR0,0,32,47_.jpg\" height=\"47\" width=\"32\"></noscript>\n",
    "</a></div><div class=\"a-fixed-left-grid-col a-col-right\" style=\"padding-left:0%;float:left;\"><div class=\"a-section\"><span class=\"a-size-base-plus\"><span><a class=\"a-size- a-align- a-link- ttip\" href=\"https://pro.imdb.com/name/nm0068338/?ref_=tt_cst_1\">Kristen Bell</a></span></span>\n",
    "<div class=\"a-section\">\n",
    "<span class=\"see_more_text\"><span class=\"see_more_text_collapsed\">Anna (voice)\n",
    "</span>\n",
    "<span class=\"see_more_text_expanded\"> Anna (voice)\n",
    "&nbsp;\n",
    "<span class=\"a-declarative\" data-action=\"see-more-text\" data-see-more-text=\"\"><a class=\"a-size- a-align- a-link-\" href=\"#\"> See fewer\n",
    "</a></span></span></span></div></div></div></div></div></div></td>\n",
    "<td colspan=\"1\" class=\"a-text-right\"><div class=\"a-section a-spacing-mini a-spacing-top-mini\"> 462\n",
    "</div></td>\n",
    "<td colspan=\"1\" class=\"a-text-left\"><div class=\"a-section a-spacing-mini a-spacing-top-mini\"><a class=\"a-size- a-align- a-link- ttip\" href=\"https://pro.imdb.com/title/tt2771372/?ref_=tt_cst_kf_1\"><span>Veronica Mars: The Movie<span class=\"a-color-secondary\"> (2014)</span></span></a></div></td>\n",
    "<td colspan=\"1\" class=\"a-text-center a-align-center background_color_horizon default_track_preference_constCTA\"><div class=\"a-section a-spacing-none a-spacing-top-none\">\n",
    "<span class=\"a-declarative\" data-action=\"a-popover\" data-a-popover=\"{&quot;url&quot;: &quot;https://pro.imdb.com/notifications_preference/tab_const_menu/_ajax?constId=nm0068338&amp;heading=Kristen%20Bell&amp;headingLevel=4&amp;isClaimed=false&amp;isCredited=false&amp;pageType=title&amp;subPageType=v2_cast&amp;pageActionSuffix=cast-trk&amp;showConnections=true&amp;showFollow=true&amp;showUnfollowCredits=false&amp;uniqueId=nm0068338&amp;viewRefmarkerPrefix=ttpg_&quot;, &quot;width&quot;: 291, &quot;dataStrategy&quot;: &quot;ajax&quot;, &quot;popoverLabel&quot;: &quot;Kristen Bell&quot;, &quot;position&quot;: &quot;triggerHorizontal&quot;, &quot;activate&quot;: &quot;onclick&quot;, &quot;closeButton&quot;: false, &quot;data&quot;: {&quot;pageAction&quot;: &quot;trk-open-options&quot;}, &quot;pageType&quot;: &quot;title&quot;, &quot;subpageType&quot;: &quot;v2_cast&quot;}\"><a data-const_id=\"nm0068338\" data-page_action=\"trk-open-options\" class=\"a-size- a-align- a-link- text_color_aqua aok-inline-block item-area-clickable track_cta_button\" href=\"#\"><span class=\"a-size-base a-color- glyphicons glyphicons-icon glyphicons-option-vertical\"></span></a></span></div></td>\n",
    "</tr>"
   ]
  }
 ],
 "metadata": {
  "kernelspec": {
   "display_name": "Python 3",
   "language": "python",
   "name": "python3"
  },
  "language_info": {
   "codemirror_mode": {
    "name": "ipython",
    "version": 3
   },
   "file_extension": ".py",
   "mimetype": "text/x-python",
   "name": "python",
   "nbconvert_exporter": "python",
   "pygments_lexer": "ipython3",
   "version": "3.8.5"
  }
 },
 "nbformat": 4,
 "nbformat_minor": 4
}
