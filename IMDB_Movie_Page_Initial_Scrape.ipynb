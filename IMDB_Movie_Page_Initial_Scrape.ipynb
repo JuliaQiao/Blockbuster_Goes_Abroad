{
 "cells": [
  {
   "cell_type": "code",
   "execution_count": 2,
   "metadata": {},
   "outputs": [],
   "source": [
    "from bs4 import BeautifulSoup\n",
    "import requests"
   ]
  },
  {
   "cell_type": "code",
   "execution_count": 3,
   "metadata": {},
   "outputs": [],
   "source": [
    "#turn this into function later, because you get passed the URL list from Mojo scrape.\n",
    "\n",
    "url = 'https://pro.imdb.com/title/tt7605074'\n",
    "\n",
    "response = requests.get(url)\n",
    "\n",
    "page = response.text\n",
    "\n",
    "soup = BeautifulSoup(page)"
   ]
  },
  {
   "cell_type": "code",
   "execution_count": 4,
   "metadata": {
    "scrolled": true
   },
   "outputs": [
    {
     "data": {
      "text/plain": [
       "200"
      ]
     },
     "execution_count": 4,
     "metadata": {},
     "output_type": "execute_result"
    }
   ],
   "source": [
    "response.status_code"
   ]
  },
  {
   "cell_type": "code",
   "execution_count": 5,
   "metadata": {},
   "outputs": [
    {
     "data": {
      "text/plain": [
       "'The Wandering Earth'"
      ]
     },
     "execution_count": 5,
     "metadata": {},
     "output_type": "execute_result"
    }
   ],
   "source": [
    "title_string = soup.find(id= 'title_heading').find('span').text\n",
    "title = title_string.split('(')[0].strip()\n",
    "title"
   ]
  },
  {
   "cell_type": "code",
   "execution_count": 6,
   "metadata": {
    "scrolled": true
   },
   "outputs": [
    {
     "data": {
      "text/plain": [
       "'Action, Sci-Fi'"
      ]
     },
     "execution_count": 6,
     "metadata": {},
     "output_type": "execute_result"
    }
   ],
   "source": [
    "genres = soup.find(id= 'genres').text\n",
    "genres"
   ]
  },
  {
   "cell_type": "code",
   "execution_count": 7,
   "metadata": {},
   "outputs": [
    {
     "data": {
      "text/plain": [
       "'Frant Gwo'"
      ]
     },
     "execution_count": 7,
     "metadata": {},
     "output_type": "execute_result"
    }
   ],
   "source": [
    "#find director in summary section\n",
    "soup.find(id = 'const_page_summary_section').find(class_='a-fixed-left-grid a-spacing-base').find(class_='a-size- a-align- a-link-').find('span').text"
   ]
  },
  {
   "cell_type": "code",
   "execution_count": 8,
   "metadata": {},
   "outputs": [
    {
     "data": {
      "text/plain": [
       "'\\n26\\nwins &\\n37\\nnominations'"
      ]
     },
     "execution_count": 8,
     "metadata": {},
     "output_type": "execute_result"
    }
   ],
   "source": [
    "#find awards summary\n",
    "awards_string = soup.find(class_=\"awards_summary_text\").text\n",
    "awards_string"
   ]
  },
  {
   "cell_type": "code",
   "execution_count": 101,
   "metadata": {},
   "outputs": [
    {
     "data": {
      "text/plain": [
       "False"
      ]
     },
     "execution_count": 101,
     "metadata": {},
     "output_type": "execute_result"
    }
   ],
   "source": [
    "#create boolean for whether oscar win is included\n",
    "oscar = bool(\"Won\" in awards_string and \"Oscar\" in awards_string)\n",
    "oscar"
   ]
  },
  {
   "cell_type": "code",
   "execution_count": null,
   "metadata": {},
   "outputs": [],
   "source": []
  },
  {
   "cell_type": "code",
   "execution_count": 123,
   "metadata": {
    "scrolled": true
   },
   "outputs": [
    {
     "ename": "AttributeError",
     "evalue": "ResultSet object has no attribute 'find'. You're probably treating a list of elements like a single element. Did you call find_all() when you meant to call find()?",
     "output_type": "error",
     "traceback": [
      "\u001b[0;31m---------------------------------------------------------------------------\u001b[0m",
      "\u001b[0;31mAttributeError\u001b[0m                            Traceback (most recent call last)",
      "\u001b[0;32m<ipython-input-123-88e9717e7f4e>\u001b[0m in \u001b[0;36m<module>\u001b[0;34m\u001b[0m\n\u001b[0;32m----> 1\u001b[0;31m \u001b[0msoup\u001b[0m\u001b[0;34m.\u001b[0m\u001b[0mfind\u001b[0m\u001b[0;34m(\u001b[0m\u001b[0mid\u001b[0m\u001b[0;34m=\u001b[0m\u001b[0;34m\"popularity_widget\"\u001b[0m\u001b[0;34m)\u001b[0m\u001b[0;34m.\u001b[0m\u001b[0mfind_all\u001b[0m\u001b[0;34m(\u001b[0m\u001b[0;34m'div'\u001b[0m\u001b[0;34m,\u001b[0m \u001b[0mclass_\u001b[0m\u001b[0;34m=\u001b[0m\u001b[0;34m'a-section a-spacing-top-mini'\u001b[0m\u001b[0;34m)\u001b[0m\u001b[0;34m.\u001b[0m\u001b[0mfind\u001b[0m\u001b[0;34m(\u001b[0m\u001b[0mclass_\u001b[0m\u001b[0;34m=\u001b[0m\u001b[0;34m'a-size- a-align- a-link-'\u001b[0m\u001b[0;34m)\u001b[0m\u001b[0;34m\u001b[0m\u001b[0;34m\u001b[0m\u001b[0m\n\u001b[0m",
      "\u001b[0;32m~/opt/anaconda3/envs/metis/lib/python3.8/site-packages/bs4/element.py\u001b[0m in \u001b[0;36m__getattr__\u001b[0;34m(self, key)\u001b[0m\n\u001b[1;32m   2158\u001b[0m     \u001b[0;32mdef\u001b[0m \u001b[0m__getattr__\u001b[0m\u001b[0;34m(\u001b[0m\u001b[0mself\u001b[0m\u001b[0;34m,\u001b[0m \u001b[0mkey\u001b[0m\u001b[0;34m)\u001b[0m\u001b[0;34m:\u001b[0m\u001b[0;34m\u001b[0m\u001b[0;34m\u001b[0m\u001b[0m\n\u001b[1;32m   2159\u001b[0m         \u001b[0;34m\"\"\"Raise a helpful exception to explain a common code fix.\"\"\"\u001b[0m\u001b[0;34m\u001b[0m\u001b[0;34m\u001b[0m\u001b[0m\n\u001b[0;32m-> 2160\u001b[0;31m         raise AttributeError(\n\u001b[0m\u001b[1;32m   2161\u001b[0m             \u001b[0;34m\"ResultSet object has no attribute '%s'. You're probably treating a list of elements like a single element. Did you call find_all() when you meant to call find()?\"\u001b[0m \u001b[0;34m%\u001b[0m \u001b[0mkey\u001b[0m\u001b[0;34m\u001b[0m\u001b[0;34m\u001b[0m\u001b[0m\n\u001b[1;32m   2162\u001b[0m         )\n",
      "\u001b[0;31mAttributeError\u001b[0m: ResultSet object has no attribute 'find'. You're probably treating a list of elements like a single element. Did you call find_all() when you meant to call find()?"
     ]
    }
   ],
   "source": [
    "soup.find(id=\"popularity_widget\").find_all('div', class_='a-section a-spacing-top-mini').find(class_='a-size- a-align- a-link-')"
   ]
  },
  {
   "cell_type": "code",
   "execution_count": 124,
   "metadata": {},
   "outputs": [],
   "source": [
    "soup.find(id=\"popularity_widget\").find(class_='a-size- a-align- a-link-')\n",
    "\n",
    "#<span class=\"a-size-medium aok-align-center\"><a class=\"a-size- a-align- a-link-\" href=\"https://pro.imdb.com/news/title/tt2294629/?ref_=tt_trending_news\">4,229</a></span>"
   ]
  },
  {
   "cell_type": "code",
   "execution_count": 126,
   "metadata": {},
   "outputs": [],
   "source": []
  },
  {
   "cell_type": "code",
   "execution_count": 141,
   "metadata": {
    "scrolled": false
   },
   "outputs": [],
   "source": [
    "#find news articles?\n",
    "#soup.find_all(class_= 'a-size- a-align- a-link-')\n"
   ]
  },
  {
   "cell_type": "code",
   "execution_count": 27,
   "metadata": {},
   "outputs": [
    {
     "ename": "AttributeError",
     "evalue": "'NoneType' object has no attribute 'findNext'",
     "output_type": "error",
     "traceback": [
      "\u001b[0;31m---------------------------------------------------------------------------\u001b[0m",
      "\u001b[0;31mAttributeError\u001b[0m                            Traceback (most recent call last)",
      "\u001b[0;32m<ipython-input-27-a426fcd91808>\u001b[0m in \u001b[0;36m<module>\u001b[0;34m\u001b[0m\n\u001b[0;32m----> 1\u001b[0;31m \u001b[0msoup\u001b[0m\u001b[0;34m.\u001b[0m\u001b[0mfind\u001b[0m\u001b[0;34m(\u001b[0m\u001b[0;34m'a'\u001b[0m\u001b[0;34m,\u001b[0m \u001b[0mhref\u001b[0m \u001b[0;34m=\u001b[0m \u001b[0;34m'https://pro.imdb.com/news/title/tt2294629/?ref_=tt_trending_news'\u001b[0m\u001b[0;34m)\u001b[0m\u001b[0;34m.\u001b[0m\u001b[0mfindNext\u001b[0m\u001b[0;34m(\u001b[0m\u001b[0;34m)\u001b[0m\u001b[0;34m\u001b[0m\u001b[0;34m\u001b[0m\u001b[0m\n\u001b[0m",
      "\u001b[0;31mAttributeError\u001b[0m: 'NoneType' object has no attribute 'findNext'"
     ]
    }
   ],
   "source": [
    "soup.find('a', href = 'https://pro.imdb.com/news/title/tt2294629/?ref_=tt_trending_news')"
   ]
  },
  {
   "cell_type": "code",
   "execution_count": null,
   "metadata": {},
   "outputs": [],
   "source": [
    "<a class=\"a-size- a-align- a-link-\" href=\"https://pro.imdb.com/news/title/tt2294629/?ref_=tt_trending_news\">4,229</a>"
   ]
  },
  {
   "cell_type": "code",
   "execution_count": 154,
   "metadata": {},
   "outputs": [],
   "source": [
    "#soup.find(id = \"contacts\")"
   ]
  },
  {
   "cell_type": "code",
   "execution_count": 157,
   "metadata": {},
   "outputs": [
    {
     "data": {
      "text/plain": [
       "[]"
      ]
     },
     "execution_count": 157,
     "metadata": {},
     "output_type": "execute_result"
    }
   ],
   "source": [
    "soup.find_all(text= 'Walt Disney')"
   ]
  },
  {
   "cell_type": "code",
   "execution_count": null,
   "metadata": {},
   "outputs": [],
   "source": [
    "#avengers https://pro.imdb.com/title/tt4154796/\n",
    "#frozen https://pro.imdb.com/title/tt2294629/"
   ]
  },
  {
   "cell_type": "code",
   "execution_count": 43,
   "metadata": {},
   "outputs": [
    {
     "data": {
      "text/plain": [
       "<div class=\"a-row header highlight_header background_color_wave awards_summary\"><div class=\"a-column a-span12 a-span-last\"><span class=\"a-size-base a-text-bold\"> Awards\n",
       "</span></div></div>"
      ]
     },
     "execution_count": 43,
     "metadata": {},
     "output_type": "execute_result"
    }
   ],
   "source": [
    "soup.find(class_='a-row header highlight_header background_color_wave awards_summary')\n",
    "          \n",
    "#<div class=\"a-column a-span12 a-span-last\"><span class=\"a-size-base a-text-bold\"> Awards\n",
    "#</span></div></div>"
   ]
  },
  {
   "cell_type": "code",
   "execution_count": 104,
   "metadata": {},
   "outputs": [
    {
     "ename": "TypeError",
     "evalue": "'NoneType' object is not subscriptable",
     "output_type": "error",
     "traceback": [
      "\u001b[0;31m---------------------------------------------------------------------------\u001b[0m",
      "\u001b[0;31mTypeError\u001b[0m                                 Traceback (most recent call last)",
      "\u001b[0;32m<ipython-input-104-ea47ea141bb4>\u001b[0m in \u001b[0;36m<module>\u001b[0;34m\u001b[0m\n\u001b[0;32m----> 1\u001b[0;31m \u001b[0msoup\u001b[0m\u001b[0;34m.\u001b[0m\u001b[0mfind\u001b[0m\u001b[0;34m(\u001b[0m\u001b[0mid\u001b[0m \u001b[0;34m=\u001b[0m \u001b[0;34m'contacts'\u001b[0m\u001b[0;34m)\u001b[0m\u001b[0;34m[\u001b[0m\u001b[0;36m0\u001b[0m\u001b[0;34m]\u001b[0m\u001b[0;34m\u001b[0m\u001b[0;34m\u001b[0m\u001b[0m\n\u001b[0m",
      "\u001b[0;31mTypeError\u001b[0m: 'NoneType' object is not subscriptable"
     ]
    }
   ],
   "source": [
    "#soup.find(id = 'contacts')"
   ]
  },
  {
   "cell_type": "code",
   "execution_count": 18,
   "metadata": {},
   "outputs": [
    {
     "data": {
      "text/plain": [
       "[]"
      ]
     },
     "execution_count": 18,
     "metadata": {},
     "output_type": "execute_result"
    }
   ],
   "source": [
    "soup.find(id='title_cast_sortable_table').find_all(class_='a-size- a-align- a-link- ttip')"
   ]
  },
  {
   "cell_type": "code",
   "execution_count": null,
   "metadata": {},
   "outputs": [],
   "source": [
    "<tr data-cast-listing-index=\"1\">\n",
    "<td colspan=\"1\"><div class=\"a-section a-spacing-mini a-spacing-top-mini\">\n",
    "<div class=\"a-fixed-left-grid\"><div class=\"a-fixed-left-grid-inner\" style=\"padding-left:46px\"><div class=\"a-fixed-left-grid-col a-col-left\" style=\"width:46px;margin-left:-46px;float:left;\"><a class=\"a-size- a-align- a-link- ttip\" href=\"https://pro.imdb.com/name/nm0068338/?ref_=tt_cst_img_1\"> <img alt=\"Kristen Bell's primary photo\" src=\"https://m.media-amazon.com/images/M/MV5BMjA1Njc0MTUzN15BMl5BanBnXkFtZTgwNTg1MjEwNDI@._V1_UX64_CR0,0,64,94_.jpg\" class=\"aok-align-center primary_image_default_border\" height=\"47\" width=\"32\" data-a-hires=\"https://m.media-amazon.com/images/M/MV5BMjA1Njc0MTUzN15BMl5BanBnXkFtZTgwNTg1MjEwNDI@._V1_UX64_CR0,0,64,94_.jpg\" data-src=\"https://m.media-amazon.com/images/M/MV5BMjA1Njc0MTUzN15BMl5BanBnXkFtZTgwNTg1MjEwNDI@._V1_UX32_CR0,0,32,47_.jpg\"><noscript><img alt=\"Kristen Bell's primary photo\" src=\"https://m.media-amazon.com/images/M/MV5BMjA1Njc0MTUzN15BMl5BanBnXkFtZTgwNTg1MjEwNDI@._V1_UX32_CR0,0,32,47_.jpg\" height=\"47\" width=\"32\"></noscript>\n",
    "</a></div><div class=\"a-fixed-left-grid-col a-col-right\" style=\"padding-left:0%;float:left;\"><div class=\"a-section\"><span class=\"a-size-base-plus\"><span><a class=\"a-size- a-align- a-link- ttip\" href=\"https://pro.imdb.com/name/nm0068338/?ref_=tt_cst_1\">Kristen Bell</a></span></span>\n",
    "<div class=\"a-section\">\n",
    "<span class=\"see_more_text\"><span class=\"see_more_text_collapsed\">Anna (voice)\n",
    "</span>\n",
    "<span class=\"see_more_text_expanded\"> Anna (voice)\n",
    "&nbsp;\n",
    "<span class=\"a-declarative\" data-action=\"see-more-text\" data-see-more-text=\"\"><a class=\"a-size- a-align- a-link-\" href=\"#\"> See fewer\n",
    "</a></span></span></span></div></div></div></div></div></div></td>\n",
    "<td colspan=\"1\" class=\"a-text-right\"><div class=\"a-section a-spacing-mini a-spacing-top-mini\"> 462\n",
    "</div></td>\n",
    "<td colspan=\"1\" class=\"a-text-left\"><div class=\"a-section a-spacing-mini a-spacing-top-mini\"><a class=\"a-size- a-align- a-link- ttip\" href=\"https://pro.imdb.com/title/tt2771372/?ref_=tt_cst_kf_1\"><span>Veronica Mars: The Movie<span class=\"a-color-secondary\"> (2014)</span></span></a></div></td>\n",
    "<td colspan=\"1\" class=\"a-text-center a-align-center background_color_horizon default_track_preference_constCTA\"><div class=\"a-section a-spacing-none a-spacing-top-none\">\n",
    "<span class=\"a-declarative\" data-action=\"a-popover\" data-a-popover=\"{&quot;url&quot;: &quot;https://pro.imdb.com/notifications_preference/tab_const_menu/_ajax?constId=nm0068338&amp;heading=Kristen%20Bell&amp;headingLevel=4&amp;isClaimed=false&amp;isCredited=false&amp;pageType=title&amp;subPageType=v2_cast&amp;pageActionSuffix=cast-trk&amp;showConnections=true&amp;showFollow=true&amp;showUnfollowCredits=false&amp;uniqueId=nm0068338&amp;viewRefmarkerPrefix=ttpg_&quot;, &quot;width&quot;: 291, &quot;dataStrategy&quot;: &quot;ajax&quot;, &quot;popoverLabel&quot;: &quot;Kristen Bell&quot;, &quot;position&quot;: &quot;triggerHorizontal&quot;, &quot;activate&quot;: &quot;onclick&quot;, &quot;closeButton&quot;: false, &quot;data&quot;: {&quot;pageAction&quot;: &quot;trk-open-options&quot;}, &quot;pageType&quot;: &quot;title&quot;, &quot;subpageType&quot;: &quot;v2_cast&quot;}\"><a data-const_id=\"nm0068338\" data-page_action=\"trk-open-options\" class=\"a-size- a-align- a-link- text_color_aqua aok-inline-block item-area-clickable track_cta_button\" href=\"#\"><span class=\"a-size-base a-color- glyphicons glyphicons-icon glyphicons-option-vertical\"></span></a></span></div></td>\n",
    "</tr>"
   ]
  }
 ],
 "metadata": {
  "kernelspec": {
   "display_name": "Python 3",
   "language": "python",
   "name": "python3"
  },
  "language_info": {
   "codemirror_mode": {
    "name": "ipython",
    "version": 3
   },
   "file_extension": ".py",
   "mimetype": "text/x-python",
   "name": "python",
   "nbconvert_exporter": "python",
   "pygments_lexer": "ipython3",
   "version": "3.8.3"
  }
 },
 "nbformat": 4,
 "nbformat_minor": 4
}
