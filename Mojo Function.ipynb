{
 "cells": [
  {
   "cell_type": "code",
   "execution_count": 9,
   "metadata": {},
   "outputs": [],
   "source": [
    "from bs4 import BeautifulSoup\n",
    "import requests"
   ]
  },
  {
   "cell_type": "code",
   "execution_count": 18,
   "metadata": {},
   "outputs": [],
   "source": [
    "#need to pass it a list of urls\n",
    "\n",
    "def mojo_movie_dict(link):\n",
    "    '''\n",
    "    From BoxOfficeMojo link stub, request movie html, parse with BeautifulSoup, and\n",
    "    collect \n",
    "        - title \n",
    "        - distributor\n",
    "        - domestic opening $ \n",
    "        - MPAA rating\n",
    "        - number of foreign markets released\n",
    "        - IMDB link\n",
    "    Return information as a dictionary.\n",
    "    '''\n",
    "    \n",
    "    base_url = 'https://www.boxofficemojo.com/title/tt'\n",
    "    \n",
    "    #Create full url to scrape\n",
    "    url = base_url + link\n",
    "    \n",
    "    #Request HTML and parse\n",
    "    response = requests.get(url)\n",
    "    page = response.text\n",
    "    soup = BeautifulSoup(page,\"lxml\")\n",
    "\n",
    "    \n",
    "    headers = ['mojo_title', 'distributor', 'domestic_opening',\n",
    "               'rating', 'markets', 'IMDB_link']\n",
    "    \n",
    "    #Get title\n",
    "    title_string = soup.find(class_= 'a-size-extra-large').text\n",
    "    mojo_title = title_string.split('(')[0].strip()\n",
    "\n",
    "    #Get distribution company\n",
    "    distributor= soup.find(class_='a-section a-spacing-none mojo-summary-values mojo-hidden-from-mobile').find_all('span')[1].contents[0] \n",
    "    \n",
    "    #Get domestic opening\n",
    "    domestic_opening = soup.find(text='Domestic Opening').findNext().find(class_= 'money').text\n",
    "    \n",
    "    #Get rating\n",
    "    rating = soup.find(text='MPAA').findNext().text\n",
    "    \n",
    "    #find foreign markets, depending on format\n",
    "    \n",
    "    if soup.find(text = 'Markets'):\n",
    "        foreign_markets = soup.find('table', class_= 'a-bordered a-horizontal-stripes a-size-base-plus').find_all(class_='a-link-normal')[1].text[0:2]\n",
    "    \n",
    "    else:\n",
    "        market_links = soup.find(class_='a-section mojo-h-scroll').find_all(class_= 'a-link-normal')\n",
    "        foreign_markets = len(market_links)-1\n",
    "    \n",
    "    #find IMDB movie page link and strip off reference parts of URL (everything after ?)\n",
    "    link_string = soup.find(class_='a-section a-spacing-none mojo-summary-values mojo-hidden-from-mobile').find_all('a', class_='a-link-normal')[-1]['href']\n",
    "    link_string = link_string.split('?')[0].strip()\n",
    "    \n",
    "    \n",
    "    #Create movie dictionary and return\n",
    "    mojo_dict = dict(zip(headers, [mojo_title,\n",
    "                                distributor,\n",
    "                                domestic_opening,\n",
    "                                rating, \n",
    "                                foreign_markets, \n",
    "                                link_string]))\n",
    "\n",
    "    return mojo_dict"
   ]
  },
  {
   "cell_type": "code",
   "execution_count": 19,
   "metadata": {},
   "outputs": [
    {
     "data": {
      "text/plain": [
       "{'mojo_title': 'Harry Potter and the Chamber of Secrets',\n",
       " 'distributor': 'Warner Bros.',\n",
       " 'domestic_opening': '$88,357,488',\n",
       " 'rating': 'PG',\n",
       " 'markets': '30',\n",
       " 'IMDB_link': 'https://pro.imdb.com/title/tt0295297'}"
      ]
     },
     "execution_count": 19,
     "metadata": {},
     "output_type": "execute_result"
    }
   ],
   "source": [
    "test_link = '0295297'\n",
    "mojo_movie_dict(test_link)"
   ]
  },
  {
   "cell_type": "code",
   "execution_count": 20,
   "metadata": {},
   "outputs": [
    {
     "data": {
      "text/plain": [
       "{'mojo_title': 'The Lord of the Rings: The Fellowship of the Ring',\n",
       " 'distributor': 'New Line Cinema',\n",
       " 'domestic_opening': '$47,211,490',\n",
       " 'rating': 'PG-13',\n",
       " 'markets': '65',\n",
       " 'IMDB_link': 'https://pro.imdb.com/title/tt0120737'}"
      ]
     },
     "execution_count": 20,
     "metadata": {},
     "output_type": "execute_result"
    }
   ],
   "source": [
    "lord_of_rings = '0120737'\n",
    "mojo_movie_dict(lord_of_rings)"
   ]
  },
  {
   "cell_type": "code",
   "execution_count": null,
   "metadata": {},
   "outputs": [],
   "source": []
  }
 ],
 "metadata": {
  "kernelspec": {
   "display_name": "Python 3",
   "language": "python",
   "name": "python3"
  },
  "language_info": {
   "codemirror_mode": {
    "name": "ipython",
    "version": 3
   },
   "file_extension": ".py",
   "mimetype": "text/x-python",
   "name": "python",
   "nbconvert_exporter": "python",
   "pygments_lexer": "ipython3",
   "version": "3.8.3"
  }
 },
 "nbformat": 4,
 "nbformat_minor": 4
}
