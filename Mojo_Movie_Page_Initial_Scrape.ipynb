{
 "cells": [
  {
   "cell_type": "code",
   "execution_count": 2,
   "metadata": {},
   "outputs": [],
   "source": [
    "from bs4 import BeautifulSoup\n",
    "import requests"
   ]
  },
  {
   "cell_type": "code",
   "execution_count": 127,
   "metadata": {},
   "outputs": [],
   "source": [
    "#turn this into function later, because you get passed the URL list from top_movies_df.\n",
    "\n",
    "url = 'https://www.boxofficemojo.com/title/tt0295297'\n",
    "\n",
    "response = requests.get(url)\n",
    "\n",
    "page = response.text\n",
    "\n",
    "soup = BeautifulSoup(page)"
   ]
  },
  {
   "cell_type": "code",
   "execution_count": 118,
   "metadata": {},
   "outputs": [],
   "source": [
    "#table that houses domestic opening, MPAA, and IMDB link\n",
    "#summary_table = soup.find(class_='a-section a-spacing-none mojo-summary-values mojo-hidden-from-mobile')"
   ]
  },
  {
   "cell_type": "code",
   "execution_count": 119,
   "metadata": {},
   "outputs": [],
   "source": [
    "#another way to find domestic opening via indexing isntead of keyword search\n",
    "#soup.find(class_='a-section a-spacing-none mojo-summary-values mojo-hidden-from-mobile').find(class_='money').text\n"
   ]
  },
  {
   "cell_type": "code",
   "execution_count": 128,
   "metadata": {},
   "outputs": [
    {
     "data": {
      "text/plain": [
       "'Harry Potter and the Chamber of Secrets'"
      ]
     },
     "execution_count": 128,
     "metadata": {},
     "output_type": "execute_result"
    }
   ],
   "source": [
    "#find movie title and strip off year in parenthesis.\n",
    "title_string = soup.find(class_= 'a-size-extra-large').text\n",
    "title = title_string.split('(')[0].strip()\n",
    "title"
   ]
  },
  {
   "cell_type": "code",
   "execution_count": 129,
   "metadata": {},
   "outputs": [
    {
     "data": {
      "text/plain": [
       "'Warner Bros.'"
      ]
     },
     "execution_count": 129,
     "metadata": {},
     "output_type": "execute_result"
    }
   ],
   "source": [
    "#find distribution company\n",
    "\n",
    "distributor= soup.find(class_='a-section a-spacing-none mojo-summary-values mojo-hidden-from-mobile').find_all('span')[1].contents[0] \n",
    "distributor\n"
   ]
  },
  {
   "cell_type": "code",
   "execution_count": 130,
   "metadata": {},
   "outputs": [
    {
     "data": {
      "text/plain": [
       "'$88,357,488'"
      ]
     },
     "execution_count": 130,
     "metadata": {},
     "output_type": "execute_result"
    }
   ],
   "source": [
    "domestic_opening = soup.find(text='Domestic Opening').findNext().find(class_= 'money').text\n",
    "domestic_opening"
   ]
  },
  {
   "cell_type": "code",
   "execution_count": 131,
   "metadata": {},
   "outputs": [
    {
     "data": {
      "text/plain": [
       "'PG'"
      ]
     },
     "execution_count": 131,
     "metadata": {},
     "output_type": "execute_result"
    }
   ],
   "source": [
    "rating = soup.find(text='MPAA').findNext().text\n",
    "rating "
   ]
  },
  {
   "cell_type": "code",
   "execution_count": 132,
   "metadata": {
    "scrolled": true
   },
   "outputs": [],
   "source": [
    "#genres = soup.find(text='Genres').findNext().text.strip()"
   ]
  },
  {
   "cell_type": "code",
   "execution_count": 136,
   "metadata": {},
   "outputs": [
    {
     "data": {
      "text/plain": [
       "'https://pro.imdb.com/title/tt0295297'"
      ]
     },
     "execution_count": 136,
     "metadata": {},
     "output_type": "execute_result"
    }
   ],
   "source": [
    "#find IMDB movie page link and strip off reference parts of URL (everything after ?)\n",
    "link_string = soup.find(class_='a-section a-spacing-none mojo-summary-values mojo-hidden-from-mobile').find_all('a', class_='a-link-normal')[-1]['href']\n",
    "link_string= link_string.split('?')[0].strip()\n",
    "link_string"
   ]
  },
  {
   "cell_type": "code",
   "execution_count": 134,
   "metadata": {},
   "outputs": [
    {
     "data": {
      "text/plain": [
       "'30'"
      ]
     },
     "execution_count": 134,
     "metadata": {},
     "output_type": "execute_result"
    }
   ],
   "source": [
    "#find and count all market links - for unlisted markets\n",
    "#subtract 1 to get rid of \"Domestic\" market, leaving only a count of foreign markets\n",
    "if soup.find(text = 'Markets'):\n",
    "    foreign_markets = soup.find('table', class_= 'a-bordered a-horizontal-stripes a-size-base-plus').find_all(class_='a-link-normal')[1].text[0:2]\n",
    "    \n",
    "else:\n",
    "    market_links = soup.find(class_='a-section mojo-h-scroll').find_all(class_= 'a-link-normal')\n",
    "    foreign_markets = len(market_links)-1\n",
    "\n",
    "foreign_markets    "
   ]
  },
  {
   "cell_type": "code",
   "execution_count": null,
   "metadata": {},
   "outputs": [],
   "source": []
  }
 ],
 "metadata": {
  "kernelspec": {
   "display_name": "Python 3",
   "language": "python",
   "name": "python3"
  },
  "language_info": {
   "codemirror_mode": {
    "name": "ipython",
    "version": 3
   },
   "file_extension": ".py",
   "mimetype": "text/x-python",
   "name": "python",
   "nbconvert_exporter": "python",
   "pygments_lexer": "ipython3",
   "version": "3.8.3"
  }
 },
 "nbformat": 4,
 "nbformat_minor": 4
}
