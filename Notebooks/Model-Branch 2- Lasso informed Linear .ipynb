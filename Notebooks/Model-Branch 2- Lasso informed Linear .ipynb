{
 "cells": [
  {
   "cell_type": "markdown",
   "metadata": {},
   "source": [
    "### Linear Model Based on Lasso Regression"
   ]
  },
  {
   "cell_type": "markdown",
   "metadata": {},
   "source": [
    "#### Lasso has told us which features to keep, so let's create a model with that guidance and see how it does!"
   ]
  },
  {
   "cell_type": "code",
   "execution_count": 144,
   "metadata": {},
   "outputs": [],
   "source": [
    "import pandas as pd\n",
    "import numpy as np\n",
    "import statsmodels.api as sm\n",
    "from sklearn.model_selection import train_test_split\n",
    "from sklearn.linear_model import LinearRegression\n",
    "from sklearn.metrics import r2_score, mean_squared_error\n",
    "from sklearn.model_selection import cross_validate"
   ]
  },
  {
   "cell_type": "code",
   "execution_count": 10,
   "metadata": {},
   "outputs": [],
   "source": [
    "#read in our dataframe from our Regression: Main notebook\n",
    "linear_df = pd.read_pickle('linear_df.pickle')"
   ]
  },
  {
   "cell_type": "code",
   "execution_count": 11,
   "metadata": {},
   "outputs": [
    {
     "data": {
      "text/plain": [
       "(847, 18)"
      ]
     },
     "execution_count": 11,
     "metadata": {},
     "output_type": "execute_result"
    }
   ],
   "source": [
    "linear_df.shape"
   ]
  },
  {
   "cell_type": "code",
   "execution_count": 9,
   "metadata": {
    "scrolled": true
   },
   "outputs": [
    {
     "name": "stderr",
     "output_type": "stream",
     "text": [
      "<>:5: SyntaxWarning: 'int' object is not subscriptable; perhaps you missed a comma?\n",
      "<>:19: SyntaxWarning: list indices must be integers or slices, not str; perhaps you missed a comma?\n",
      "<>:5: SyntaxWarning: 'int' object is not subscriptable; perhaps you missed a comma?\n",
      "<>:19: SyntaxWarning: list indices must be integers or slices, not str; perhaps you missed a comma?\n",
      "<ipython-input-9-ef797e530e07>:5: SyntaxWarning: 'int' object is not subscriptable; perhaps you missed a comma?\n",
      "  ['domestic_opening_gross']**2\n",
      "<ipython-input-9-ef797e530e07>:19: SyntaxWarning: list indices must be integers or slices, not str; perhaps you missed a comma?\n",
      "  ['Is_Sequel']*['PG-13']\n"
     ]
    },
    {
     "ename": "TypeError",
     "evalue": "'int' object is not subscriptable",
     "output_type": "error",
     "traceback": [
      "\u001b[0;31m---------------------------------------------------------------------------\u001b[0m",
      "\u001b[0;31mTypeError\u001b[0m                                 Traceback (most recent call last)",
      "\u001b[0;32m<ipython-input-9-ef797e530e07>\u001b[0m in \u001b[0;36m<module>\u001b[0;34m\u001b[0m\n\u001b[1;32m      3\u001b[0m \u001b[0;34m[\u001b[0m\u001b[0;34m'Adventure'\u001b[0m\u001b[0;34m]\u001b[0m\u001b[0;34m,\u001b[0m\u001b[0;34m\u001b[0m\u001b[0;34m\u001b[0m\u001b[0m\n\u001b[1;32m      4\u001b[0m \u001b[0;34m[\u001b[0m\u001b[0;34m'Comedy'\u001b[0m\u001b[0;34m]\u001b[0m\u001b[0;34m,\u001b[0m\u001b[0;34m\u001b[0m\u001b[0;34m\u001b[0m\u001b[0m\n\u001b[0;32m----> 5\u001b[0;31m \u001b[0;34m[\u001b[0m\u001b[0;34m'domestic_opening_gross'\u001b[0m\u001b[0;34m]\u001b[0m\u001b[0;34m**\u001b[0m\u001b[0;36m2\u001b[0m\u001b[0;34m\u001b[0m\u001b[0;34m\u001b[0m\u001b[0m\n\u001b[0m\u001b[1;32m      6\u001b[0m \u001b[0;34m[\u001b[0m\u001b[0;34m'domestic_opening_gross'\u001b[0m\u001b[0;34m]\u001b[0m\u001b[0;34m*\u001b[0m\u001b[0;34m[\u001b[0m\u001b[0;34m'foreign_market_count'\u001b[0m\u001b[0;34m]\u001b[0m\u001b[0;34m,\u001b[0m\u001b[0;34m\u001b[0m\u001b[0;34m\u001b[0m\u001b[0m\n\u001b[1;32m      7\u001b[0m \u001b[0;34m[\u001b[0m\u001b[0;34m'domestic_opening_gross'\u001b[0m\u001b[0;34m]\u001b[0m\u001b[0;34m*\u001b[0m\u001b[0;34m[\u001b[0m\u001b[0;34m'Years_Since_Release'\u001b[0m\u001b[0;34m]\u001b[0m\u001b[0;34m,\u001b[0m\u001b[0;34m\u001b[0m\u001b[0;34m\u001b[0m\u001b[0m\n",
      "\u001b[0;31mTypeError\u001b[0m: 'int' object is not subscriptable"
     ]
    }
   ],
   "source": [
    "columns = (['domestic_opening_gross'],\n",
    "['foreign_market_count'],\n",
    "['Adventure'],\n",
    "['Comedy'],\n",
    "['domestic_opening_gross']**2\n",
    "['domestic_opening_gross']*['foreign_market_count'],\n",
    "['domestic_opening_gross']*['Years_Since_Release'],\n",
    "['domestic_opening_gross']*['Is_Sequel'],\n",
    "['domestic_opening_gross']*['Twentieth Century Fox'],\n",
    "['domestic_opening_gross']*['Walt Disney Studios Motion Pictures'],\n",
    "['domestic_opening_gross']*['Warner Bros.'],\n",
    "['domestic_opening_gross']*['Adventure'],\n",
    "['domestic_opening_gross']*['Comedy'], \n",
    "['foreign_market_count']*['Walt Disney Studios Motion Pictures'],\n",
    "['Years_Since_Release']*['Comedy'],\n",
    "['Is_Adaptation']*['Walt Disney Studios Motion Pictures'],\n",
    "['Is_Sequel']*['Action'],\n",
    "['Is_Sequel']*['Adventure'],\n",
    "['Is_Sequel']*['PG-13']\n",
    "['Warner Bros.']*['Adventure'], \n",
    "['Action']*['PG-13'],\n",
    "['Adventure']**2,\n",
    "['Adventure']*['PG-13'], \n",
    "['Comedy']**2)"
   ]
  },
  {
   "cell_type": "code",
   "execution_count": 69,
   "metadata": {},
   "outputs": [],
   "source": [
    "lasso_df = linear_df[['Foreign_Gross',\n",
    "                      'Title',\n",
    "                      'domestic_opening_gross', \n",
    "                      'foreign_market_count',\n",
    "                      'Adventure',\n",
    "                      'Comedy',\n",
    "                      'Years_Since_Release',\n",
    "                      'Is_Sequel',\n",
    "                      'Twentieth Century Fox',\n",
    "                      'Walt Disney Studios Motion Pictures',\n",
    "                      'Warner Bros.',\n",
    "                      'Is_Adaptation',\n",
    "                      'Action',\n",
    "                      'PG-13']]"
   ]
  },
  {
   "cell_type": "code",
   "execution_count": 70,
   "metadata": {
    "scrolled": true
   },
   "outputs": [
    {
     "data": {
      "text/html": [
       "<div>\n",
       "<style scoped>\n",
       "    .dataframe tbody tr th:only-of-type {\n",
       "        vertical-align: middle;\n",
       "    }\n",
       "\n",
       "    .dataframe tbody tr th {\n",
       "        vertical-align: top;\n",
       "    }\n",
       "\n",
       "    .dataframe thead th {\n",
       "        text-align: right;\n",
       "    }\n",
       "</style>\n",
       "<table border=\"1\" class=\"dataframe\">\n",
       "  <thead>\n",
       "    <tr style=\"text-align: right;\">\n",
       "      <th></th>\n",
       "      <th>Foreign_Gross</th>\n",
       "      <th>Title</th>\n",
       "      <th>domestic_opening_gross</th>\n",
       "      <th>foreign_market_count</th>\n",
       "      <th>Adventure</th>\n",
       "      <th>Comedy</th>\n",
       "      <th>Years_Since_Release</th>\n",
       "      <th>Is_Sequel</th>\n",
       "      <th>Twentieth Century Fox</th>\n",
       "      <th>Walt Disney Studios Motion Pictures</th>\n",
       "      <th>Warner Bros.</th>\n",
       "      <th>Is_Adaptation</th>\n",
       "      <th>Action</th>\n",
       "      <th>PG-13</th>\n",
       "    </tr>\n",
       "  </thead>\n",
       "  <tbody>\n",
       "    <tr>\n",
       "      <th>0</th>\n",
       "      <td>391683624</td>\n",
       "      <td>Warcraft</td>\n",
       "      <td>24166110</td>\n",
       "      <td>66</td>\n",
       "      <td>0</td>\n",
       "      <td>0</td>\n",
       "      <td>4</td>\n",
       "      <td>0</td>\n",
       "      <td>0</td>\n",
       "      <td>0</td>\n",
       "      <td>0</td>\n",
       "      <td>0</td>\n",
       "      <td>1</td>\n",
       "      <td>1</td>\n",
       "    </tr>\n",
       "    <tr>\n",
       "      <th>1</th>\n",
       "      <td>187700000</td>\n",
       "      <td>Bridget Jones's Baby</td>\n",
       "      <td>8571785</td>\n",
       "      <td>61</td>\n",
       "      <td>0</td>\n",
       "      <td>1</td>\n",
       "      <td>4</td>\n",
       "      <td>0</td>\n",
       "      <td>0</td>\n",
       "      <td>0</td>\n",
       "      <td>0</td>\n",
       "      <td>0</td>\n",
       "      <td>0</td>\n",
       "      <td>0</td>\n",
       "    </tr>\n",
       "    <tr>\n",
       "      <th>2</th>\n",
       "      <td>301219864</td>\n",
       "      <td>xXx: Return of Xander Cage</td>\n",
       "      <td>20130142</td>\n",
       "      <td>55</td>\n",
       "      <td>0</td>\n",
       "      <td>0</td>\n",
       "      <td>3</td>\n",
       "      <td>1</td>\n",
       "      <td>0</td>\n",
       "      <td>0</td>\n",
       "      <td>0</td>\n",
       "      <td>0</td>\n",
       "      <td>1</td>\n",
       "      <td>1</td>\n",
       "    </tr>\n",
       "    <tr>\n",
       "      <th>3</th>\n",
       "      <td>289393001</td>\n",
       "      <td>The Great Wall</td>\n",
       "      <td>18469620</td>\n",
       "      <td>64</td>\n",
       "      <td>0</td>\n",
       "      <td>0</td>\n",
       "      <td>4</td>\n",
       "      <td>0</td>\n",
       "      <td>0</td>\n",
       "      <td>0</td>\n",
       "      <td>0</td>\n",
       "      <td>0</td>\n",
       "      <td>1</td>\n",
       "      <td>1</td>\n",
       "    </tr>\n",
       "    <tr>\n",
       "      <th>4</th>\n",
       "      <td>198923741</td>\n",
       "      <td>Mr. Bean's Holiday</td>\n",
       "      <td>9889780</td>\n",
       "      <td>68</td>\n",
       "      <td>0</td>\n",
       "      <td>1</td>\n",
       "      <td>13</td>\n",
       "      <td>0</td>\n",
       "      <td>0</td>\n",
       "      <td>0</td>\n",
       "      <td>0</td>\n",
       "      <td>0</td>\n",
       "      <td>0</td>\n",
       "      <td>0</td>\n",
       "    </tr>\n",
       "    <tr>\n",
       "      <th>...</th>\n",
       "      <td>...</td>\n",
       "      <td>...</td>\n",
       "      <td>...</td>\n",
       "      <td>...</td>\n",
       "      <td>...</td>\n",
       "      <td>...</td>\n",
       "      <td>...</td>\n",
       "      <td>...</td>\n",
       "      <td>...</td>\n",
       "      <td>...</td>\n",
       "      <td>...</td>\n",
       "      <td>...</td>\n",
       "      <td>...</td>\n",
       "      <td>...</td>\n",
       "    </tr>\n",
       "    <tr>\n",
       "      <th>842</th>\n",
       "      <td>33347096</td>\n",
       "      <td>The Longest Yard</td>\n",
       "      <td>47606480</td>\n",
       "      <td>52</td>\n",
       "      <td>0</td>\n",
       "      <td>1</td>\n",
       "      <td>15</td>\n",
       "      <td>0</td>\n",
       "      <td>0</td>\n",
       "      <td>0</td>\n",
       "      <td>0</td>\n",
       "      <td>0</td>\n",
       "      <td>0</td>\n",
       "      <td>1</td>\n",
       "    </tr>\n",
       "    <tr>\n",
       "      <th>843</th>\n",
       "      <td>53248834</td>\n",
       "      <td>The Blind Side</td>\n",
       "      <td>34119372</td>\n",
       "      <td>33</td>\n",
       "      <td>0</td>\n",
       "      <td>0</td>\n",
       "      <td>11</td>\n",
       "      <td>0</td>\n",
       "      <td>0</td>\n",
       "      <td>0</td>\n",
       "      <td>1</td>\n",
       "      <td>0</td>\n",
       "      <td>0</td>\n",
       "      <td>1</td>\n",
       "    </tr>\n",
       "    <tr>\n",
       "      <th>844</th>\n",
       "      <td>19530702</td>\n",
       "      <td>Ride Along</td>\n",
       "      <td>41516170</td>\n",
       "      <td>19</td>\n",
       "      <td>0</td>\n",
       "      <td>0</td>\n",
       "      <td>6</td>\n",
       "      <td>0</td>\n",
       "      <td>0</td>\n",
       "      <td>0</td>\n",
       "      <td>0</td>\n",
       "      <td>0</td>\n",
       "      <td>1</td>\n",
       "      <td>1</td>\n",
       "    </tr>\n",
       "    <tr>\n",
       "      <th>845</th>\n",
       "      <td>179067330</td>\n",
       "      <td>The Impossible</td>\n",
       "      <td>143818</td>\n",
       "      <td>47</td>\n",
       "      <td>0</td>\n",
       "      <td>0</td>\n",
       "      <td>8</td>\n",
       "      <td>0</td>\n",
       "      <td>0</td>\n",
       "      <td>0</td>\n",
       "      <td>0</td>\n",
       "      <td>0</td>\n",
       "      <td>0</td>\n",
       "      <td>1</td>\n",
       "    </tr>\n",
       "    <tr>\n",
       "      <th>846</th>\n",
       "      <td>15148718</td>\n",
       "      <td>Talladega Nights: The Ballad of Ricky Bobby</td>\n",
       "      <td>47042215</td>\n",
       "      <td>39</td>\n",
       "      <td>0</td>\n",
       "      <td>1</td>\n",
       "      <td>14</td>\n",
       "      <td>1</td>\n",
       "      <td>0</td>\n",
       "      <td>0</td>\n",
       "      <td>0</td>\n",
       "      <td>0</td>\n",
       "      <td>0</td>\n",
       "      <td>1</td>\n",
       "    </tr>\n",
       "  </tbody>\n",
       "</table>\n",
       "<p>847 rows × 14 columns</p>\n",
       "</div>"
      ],
      "text/plain": [
       "     Foreign_Gross                                        Title  \\\n",
       "0        391683624                                     Warcraft   \n",
       "1        187700000                         Bridget Jones's Baby   \n",
       "2        301219864                   xXx: Return of Xander Cage   \n",
       "3        289393001                               The Great Wall   \n",
       "4        198923741                           Mr. Bean's Holiday   \n",
       "..             ...                                          ...   \n",
       "842       33347096                             The Longest Yard   \n",
       "843       53248834                               The Blind Side   \n",
       "844       19530702                                   Ride Along   \n",
       "845      179067330                               The Impossible   \n",
       "846       15148718  Talladega Nights: The Ballad of Ricky Bobby   \n",
       "\n",
       "     domestic_opening_gross  foreign_market_count  Adventure  Comedy  \\\n",
       "0                  24166110                    66          0       0   \n",
       "1                   8571785                    61          0       1   \n",
       "2                  20130142                    55          0       0   \n",
       "3                  18469620                    64          0       0   \n",
       "4                   9889780                    68          0       1   \n",
       "..                      ...                   ...        ...     ...   \n",
       "842                47606480                    52          0       1   \n",
       "843                34119372                    33          0       0   \n",
       "844                41516170                    19          0       0   \n",
       "845                  143818                    47          0       0   \n",
       "846                47042215                    39          0       1   \n",
       "\n",
       "     Years_Since_Release  Is_Sequel  Twentieth Century Fox  \\\n",
       "0                      4          0                      0   \n",
       "1                      4          0                      0   \n",
       "2                      3          1                      0   \n",
       "3                      4          0                      0   \n",
       "4                     13          0                      0   \n",
       "..                   ...        ...                    ...   \n",
       "842                   15          0                      0   \n",
       "843                   11          0                      0   \n",
       "844                    6          0                      0   \n",
       "845                    8          0                      0   \n",
       "846                   14          1                      0   \n",
       "\n",
       "     Walt Disney Studios Motion Pictures  Warner Bros.  Is_Adaptation  Action  \\\n",
       "0                                      0             0              0       1   \n",
       "1                                      0             0              0       0   \n",
       "2                                      0             0              0       1   \n",
       "3                                      0             0              0       1   \n",
       "4                                      0             0              0       0   \n",
       "..                                   ...           ...            ...     ...   \n",
       "842                                    0             0              0       0   \n",
       "843                                    0             1              0       0   \n",
       "844                                    0             0              0       1   \n",
       "845                                    0             0              0       0   \n",
       "846                                    0             0              0       0   \n",
       "\n",
       "     PG-13  \n",
       "0        1  \n",
       "1        0  \n",
       "2        1  \n",
       "3        1  \n",
       "4        0  \n",
       "..     ...  \n",
       "842      1  \n",
       "843      1  \n",
       "844      1  \n",
       "845      1  \n",
       "846      1  \n",
       "\n",
       "[847 rows x 14 columns]"
      ]
     },
     "execution_count": 70,
     "metadata": {},
     "output_type": "execute_result"
    }
   ],
   "source": [
    "lasso_df"
   ]
  },
  {
   "cell_type": "code",
   "execution_count": 71,
   "metadata": {},
   "outputs": [
    {
     "data": {
      "text/plain": [
       "Foreign_Gross                           int64\n",
       "Title                                  object\n",
       "domestic_opening_gross                  int64\n",
       "foreign_market_count                    int64\n",
       "Adventure                               int64\n",
       "Comedy                                  int64\n",
       "Years_Since_Release                     int64\n",
       "Is_Sequel                               int64\n",
       "Twentieth Century Fox                   int64\n",
       "Walt Disney Studios Motion Pictures     int64\n",
       "Warner Bros.                            int64\n",
       "Is_Adaptation                           int64\n",
       "Action                                  int64\n",
       "PG-13                                   uint8\n",
       "dtype: object"
      ]
     },
     "execution_count": 71,
     "metadata": {},
     "output_type": "execute_result"
    }
   ],
   "source": [
    "lasso_df.dtypes"
   ]
  },
  {
   "cell_type": "code",
   "execution_count": 72,
   "metadata": {},
   "outputs": [
    {
     "name": "stderr",
     "output_type": "stream",
     "text": [
      "<ipython-input-72-d9539e1157ba>:1: SettingWithCopyWarning: \n",
      "A value is trying to be set on a copy of a slice from a DataFrame.\n",
      "Try using .loc[row_indexer,col_indexer] = value instead\n",
      "\n",
      "See the caveats in the documentation: https://pandas.pydata.org/pandas-docs/stable/user_guide/indexing.html#returning-a-view-versus-a-copy\n",
      "  lasso_df['domestic_opening_gross_X2'] = lasso_df['domestic_opening_gross']**2\n",
      "<ipython-input-72-d9539e1157ba>:3: SettingWithCopyWarning: \n",
      "A value is trying to be set on a copy of a slice from a DataFrame.\n",
      "Try using .loc[row_indexer,col_indexer] = value instead\n",
      "\n",
      "See the caveats in the documentation: https://pandas.pydata.org/pandas-docs/stable/user_guide/indexing.html#returning-a-view-versus-a-copy\n",
      "  lasso_df['dom_X_foreign_market'] = lasso_df['domestic_opening_gross']*lasso_df['foreign_market_count']\n",
      "<ipython-input-72-d9539e1157ba>:5: SettingWithCopyWarning: \n",
      "A value is trying to be set on a copy of a slice from a DataFrame.\n",
      "Try using .loc[row_indexer,col_indexer] = value instead\n",
      "\n",
      "See the caveats in the documentation: https://pandas.pydata.org/pandas-docs/stable/user_guide/indexing.html#returning-a-view-versus-a-copy\n",
      "  lasso_df['dom_X_Sequel']=lasso_df['domestic_opening_gross']*lasso_df['Is_Sequel']\n"
     ]
    }
   ],
   "source": [
    "lasso_df['domestic_opening_gross_X2'] = lasso_df['domestic_opening_gross']**2\n",
    "\n",
    "lasso_df['dom_X_foreign_market'] = lasso_df['domestic_opening_gross']*lasso_df['foreign_market_count']\n",
    "\n",
    "lasso_df['dom_X_Sequel']=lasso_df['domestic_opening_gross']*lasso_df['Is_Sequel']\n",
    "\n",
    "lasso_df['dom_X_Fox'] = lasso_df['domestic_opening_gross']*lasso_df['Twentieth Century Fox']\n",
    "\n",
    "lasso_df['dom_X_Disney']=lasso_df['domestic_opening_gross']*lasso_df['Walt Disney Studios Motion Pictures']\n",
    "\n",
    "lasso_df['dom_X_Warner']=lasso_df['domestic_opening_gross']*lasso_df['Warner Bros.']\n",
    "\n",
    "lasso_df['dom_X_Adventure']=lasso_df['domestic_opening_gross']*lasso_df['Adventure']\n",
    "\n",
    "lasso_df['dom_X_Comedy']=lasso_df['domestic_opening_gross']*lasso_df['Comedy']\n",
    "\n",
    "lasso_df['foreign_X_Disney']=lasso_df['foreign_market_count']*lasso_df['Walt Disney Studios Motion Pictures']\n",
    "\n",
    "lasso_df['Years_X_Comedy']=lasso_df['Years_Since_Release']*lasso_df['Comedy']\n",
    "\n",
    "lasso_df['Adaptation_X_Disney']=lasso_df['Is_Adaptation']*lasso_df['Walt Disney Studios Motion Pictures']\n",
    "\n",
    "lasso_df['Sequel_X_Action']=lasso_df['Is_Sequel']*lasso_df['Action']\n",
    "\n",
    "lasso_df['Sequel_X_Adventure']=lasso_df['Is_Sequel']*lasso_df['Adventure']\n",
    "\n",
    "lasso_df['Sequel_X_PG-13']=lasso_df['Is_Sequel']*lasso_df['PG-13']\n",
    "\n",
    "lasso_df['Warner_X_Adventure']=lasso_df['Warner Bros.']*lasso_df['Adventure'] \n",
    "\n",
    "lasso_df['Action_X_PG-13']=lasso_df['Action']*lasso_df['PG-13']\n",
    "\n",
    "lasso_df['Adventure_X2']=lasso_df['Adventure']**2\n",
    "\n",
    "lasso_df['Adventure_X_PG-13']=lasso_df['Adventure']*lasso_df['PG-13'] \n",
    "\n",
    "lasso_df['Comedy_X2']=lasso_df['Comedy']**2\n"
   ]
  },
  {
   "cell_type": "code",
   "execution_count": 73,
   "metadata": {},
   "outputs": [],
   "source": [
    "lasso_df.drop([ 'foreign_market_count',\n",
    "                      'Is_Sequel',\n",
    "                      'Twentieth Century Fox',\n",
    "                      'Walt Disney Studios Motion Pictures',\n",
    "                      'Warner Bros.',\n",
    "                      'Is_Adaptation',\n",
    "                      'Action',\n",
    "                      'PG-13'],axis=1, inplace = True)"
   ]
  },
  {
   "cell_type": "code",
   "execution_count": 74,
   "metadata": {},
   "outputs": [
    {
     "data": {
      "text/plain": [
       "Index(['Foreign_Gross', 'Title', 'domestic_opening_gross', 'Adventure',\n",
       "       'Comedy', 'Years_Since_Release', 'domestic_opening_gross_X2',\n",
       "       'dom_X_foreign_market', 'dom_X_Sequel', 'dom_X_Fox', 'dom_X_Disney',\n",
       "       'dom_X_Warner', 'dom_X_Adventure', 'dom_X_Comedy', 'foreign_X_Disney',\n",
       "       'Years_X_Comedy', 'Adaptation_X_Disney', 'Sequel_X_Action',\n",
       "       'Sequel_X_Adventure', 'Sequel_X_PG-13', 'Warner_X_Adventure',\n",
       "       'Action_X_PG-13', 'Adventure_X2', 'Adventure_X_PG-13', 'Comedy_X2'],\n",
       "      dtype='object')"
      ]
     },
     "execution_count": 74,
     "metadata": {},
     "output_type": "execute_result"
    }
   ],
   "source": [
    "lasso_df.columns"
   ]
  },
  {
   "cell_type": "code",
   "execution_count": 75,
   "metadata": {},
   "outputs": [
    {
     "data": {
      "text/plain": [
       "25"
      ]
     },
     "execution_count": 75,
     "metadata": {},
     "output_type": "execute_result"
    }
   ],
   "source": [
    "len(list(lasso_df.columns))"
   ]
  },
  {
   "cell_type": "code",
   "execution_count": 77,
   "metadata": {},
   "outputs": [],
   "source": [
    "X, y = lasso_df.drop(['Foreign_Gross', 'Title'], axis=1), lasso_df['Foreign_Gross']\n",
    "#split all data into X and y (for train+validate) and X and y test\n",
    "X, X_test, y, y_test = train_test_split(X, y, test_size=.2, random_state=7)\n",
    "#split the train+validate--X and y again into separate train and validate buckets\n",
    "X_train, X_val, y_train, y_val = train_test_split(X, y, test_size=.25, random_state=3)"
   ]
  },
  {
   "cell_type": "code",
   "execution_count": 78,
   "metadata": {},
   "outputs": [
    {
     "name": "stdout",
     "output_type": "stream",
     "text": [
      "Linear Regression TRAIN R^2: 0.639\n",
      "Linear Regression VAL R^2: 0.560\n"
     ]
    }
   ],
   "source": [
    "#set up linear regression\n",
    "lm = LinearRegression()\n",
    "\n",
    "#validate\n",
    "\n",
    "lm.fit(X_train, y_train)\n",
    "print(f'Linear Regression TRAIN R^2: {lm.score(X_train, y_train):.3f}')\n",
    "print(f'Linear Regression VAL R^2: {lm.score(X_val, y_val):.3f}')"
   ]
  },
  {
   "cell_type": "markdown",
   "metadata": {},
   "source": [
    "#### This looks good, but not as good as our earlier models, so let's see if we can use intuition to narrow down on these features, since there is overfitting indicated by the Train/Val ratio"
   ]
  },
  {
   "cell_type": "code",
   "execution_count": 140,
   "metadata": {},
   "outputs": [],
   "source": [
    "#removing features one by one to see which impact our regression below.\n",
    "\n",
    "X, y = lasso_df.drop(['Foreign_Gross', 'Title',\n",
    "                     'Adventure',\n",
    "                      'Comedy', \n",
    "                      #'Years_Since_Release', \n",
    "                      'domestic_opening_gross_X2',\n",
    "                      #'dom_X_foreign_market', \n",
    "                      #'dom_X_Sequel', \n",
    "                      'dom_X_Fox', \n",
    "                      #'dom_X_Disney',\n",
    "                      'dom_X_Warner', \n",
    "                      #'dom_X_Adventure', \n",
    "                      #'dom_X_Comedy', #KEEP\n",
    "                      #'foreign_X_Disney',\n",
    "                      #'Years_X_Comedy', \n",
    "                      #'Adaptation_X_Disney', \n",
    "                      #'Sequel_X_Action', #KEEP\n",
    "                      #'Sequel_X_Adventure', #KEEP\n",
    "                      'Sequel_X_PG-13', \n",
    "                      'Warner_X_Adventure',\n",
    "                      #'Action_X_PG-13', \n",
    "                      'Adventure_X2', \n",
    "                      'Adventure_X_PG-13', \n",
    "                      'Comedy_X2'\n",
    "                     \n",
    "                     ], axis=1), lasso_df['Foreign_Gross']\n",
    "#split all data into X and y (for train+validate) and X and y test\n",
    "X, X_test, y, y_test = train_test_split(X, y, test_size=.2, random_state=7)\n",
    "#split the train+validate--X and y again into separate train and validate buckets\n",
    "X_train, X_val, y_train, y_val = train_test_split(X, y, test_size=.25, random_state=3)"
   ]
  },
  {
   "cell_type": "code",
   "execution_count": 141,
   "metadata": {},
   "outputs": [
    {
     "name": "stdout",
     "output_type": "stream",
     "text": [
      "Linear Regression TRAIN R^2: 0.632\n",
      "Linear Regression VAL R^2: 0.593\n"
     ]
    }
   ],
   "source": [
    "#set up linear regression\n",
    "lm = LinearRegression()\n",
    "\n",
    "#validate\n",
    "\n",
    "lm.fit(X_train, y_train)\n",
    "print(f'Linear Regression TRAIN R^2: {lm.score(X_train, y_train):.3f}')\n",
    "print(f'Linear Regression VAL R^2: {lm.score(X_val, y_val):.3f}')"
   ]
  },
  {
   "cell_type": "markdown",
   "metadata": {},
   "source": [
    "#### The numbers are opimized as much as possible manually, but does make a difference!\n",
    "#### Let's cross validate as well"
   ]
  },
  {
   "cell_type": "code",
   "execution_count": 145,
   "metadata": {},
   "outputs": [],
   "source": [
    "def cv_results(X, y, model=LinearRegression(normalize=True), scoring='r2', rounding=4, cv=5, minimize_score=False):\n",
    "    '''\n",
    "    For a set of features and target X, y, perform a 5 fold cross validation.\n",
    "    Fit and validate a model, and report results\n",
    "    Note: `sklearn.model_selection.cross_validate` defaults to 5 fold, 80/20 validation splits.\n",
    "    '''\n",
    "    \n",
    "    model_cv = cross_validate(model, X, y, cv=cv, return_train_score=True, \n",
    "                              scoring=scoring, return_estimator=True)\n",
    "\n",
    "    if minimize_score:\n",
    "        select = model_cv['test_score'].argmin()\n",
    "    else:\n",
    "        select = model_cv['test_score'].argmax()\n",
    "\n",
    "    final_model = model_cv['estimator'][select]\n",
    "    \n",
    "    # Capture the ratio between the train and test scores to understand possible under/over fitting\n",
    "    model_cv['train_test_score_ratio'] = model_cv['train_score'] / model_cv['test_score']\n",
    "    \n",
    "    mean_score = round(model_cv['test_score'].mean(), rounding)\n",
    "    min_score = round(model_cv['test_score'].min(), rounding)\n",
    "    max_score = round(model_cv['test_score'].max(), rounding)\n",
    "    \n",
    "    mean_ratio = round(model_cv['train_test_score_ratio'].mean(), rounding)\n",
    "    min_ratio = round(model_cv['train_test_score_ratio'].min(), rounding)\n",
    "    max_ratio = round(model_cv['train_test_score_ratio'].max(), rounding)\n",
    "    \n",
    "    # report results\n",
    "    print(f'Test {scoring} {\":\":<15} Mean = {mean_score}\\tRange = ({min_score}, {max_score})')\n",
    "    print(f'Train/Test {scoring} Ratio {\":\":<3} Mean = {mean_ratio}\\tRange = ({min_ratio}, {max_ratio})')\n",
    "    \n",
    "    print('\\nBest Model Feature coefficient results:')\n",
    "    for feature, coef in zip(X.columns, final_model.coef_):\n",
    "        print(f'{feature + \":\":<16} {coef:.2f}')"
   ]
  },
  {
   "cell_type": "code",
   "execution_count": 146,
   "metadata": {},
   "outputs": [
    {
     "name": "stdout",
     "output_type": "stream",
     "text": [
      "Test r2 :               Mean = 0.5873\tRange = (0.3781, 0.7326)\n",
      "Train/Test r2 Ratio :   Mean = 1.1483\tRange = (0.8059, 1.7255)\n",
      "\n",
      "Best Model Feature coefficient results:\n",
      "domestic_opening_gross: 1.38\n",
      "Years_Since_Release: -2342043.13\n",
      "dom_X_foreign_market: 0.03\n",
      "dom_X_Sequel:    0.06\n",
      "dom_X_Disney:    0.54\n",
      "dom_X_Adventure: 1.07\n",
      "dom_X_Comedy:    -2.36\n",
      "foreign_X_Disney: -201927.13\n",
      "Years_X_Comedy:  2253496.24\n",
      "Adaptation_X_Disney: 65330764.27\n",
      "Sequel_X_Action: 28147796.03\n",
      "Sequel_X_Adventure: 46536538.28\n",
      "Action_X_PG-13:  32417643.00\n"
     ]
    }
   ],
   "source": [
    "cv_results(X,y)"
   ]
  },
  {
   "cell_type": "markdown",
   "metadata": {},
   "source": [
    "### Our highest R^2 yet! \n",
    "#### Our Degree 2 Polynomian score is even higher than our manually crafted interaction features model from the \"Regression Model- Interactions\" notebook:"
   ]
  },
  {
   "cell_type": "markdown",
   "metadata": {},
   "source": [
    "Linear Regression TRAIN R^2: 0.617\n",
    "\n",
    "Linear Regression VAL R^2: 0.585"
   ]
  },
  {
   "cell_type": "markdown",
   "metadata": {},
   "source": [
    "#### This is our final model, before we go back to our Regression: Main notebook to take a look at residuals"
   ]
  },
  {
   "cell_type": "code",
   "execution_count": 148,
   "metadata": {},
   "outputs": [],
   "source": [
    "#pickling our original df for reference\n",
    "lasso_df.to_pickle('lasso_df.pickle')"
   ]
  },
  {
   "cell_type": "code",
   "execution_count": 151,
   "metadata": {},
   "outputs": [],
   "source": [
    "#dropping the variables we didn't need before we move onto residuals in our other notebook\n",
    "\n",
    "residual_df = lasso_df.drop(['Adventure',\n",
    "                      'Comedy', \n",
    "                      'domestic_opening_gross_X2',\n",
    "                      'dom_X_Fox', \n",
    "                      'dom_X_Warner', \n",
    "                      'Sequel_X_PG-13', \n",
    "                      'Warner_X_Adventure',\n",
    "                      'Adventure_X2', \n",
    "                      'Adventure_X_PG-13', \n",
    "                      'Comedy_X2'], axis = 1)\n"
   ]
  },
  {
   "cell_type": "code",
   "execution_count": 152,
   "metadata": {},
   "outputs": [],
   "source": [
    "#pickling our newest df for residuals\n",
    "residual_df.to_pickle('residual_df.pickle')"
   ]
  },
  {
   "cell_type": "code",
   "execution_count": null,
   "metadata": {},
   "outputs": [],
   "source": []
  }
 ],
 "metadata": {
  "kernelspec": {
   "display_name": "Python [conda env:metis] *",
   "language": "python",
   "name": "conda-env-metis-py"
  },
  "language_info": {
   "codemirror_mode": {
    "name": "ipython",
    "version": 3
   },
   "file_extension": ".py",
   "mimetype": "text/x-python",
   "name": "python",
   "nbconvert_exporter": "python",
   "pygments_lexer": "ipython3",
   "version": "3.8.5"
  }
 },
 "nbformat": 4,
 "nbformat_minor": 4
}
