{
 "cells": [
  {
   "cell_type": "code",
   "execution_count": 2,
   "metadata": {},
   "outputs": [],
   "source": [
    "from bs4 import BeautifulSoup\n",
    "import requests"
   ]
  },
  {
   "cell_type": "code",
   "execution_count": 6,
   "metadata": {},
   "outputs": [],
   "source": [
    "url = 'https://en.wikipedia.org/wiki/Lil_Nas_X'\n",
    "\n",
    "response = requests.get(url)"
   ]
  },
  {
   "cell_type": "code",
   "execution_count": 7,
   "metadata": {},
   "outputs": [
    {
     "data": {
      "text/plain": [
       "200"
      ]
     },
     "execution_count": 7,
     "metadata": {},
     "output_type": "execute_result"
    }
   ],
   "source": [
    "response.status_code"
   ]
  },
  {
   "cell_type": "code",
   "execution_count": 8,
   "metadata": {},
   "outputs": [
    {
     "data": {
      "text/plain": [
       "'2019\",\"Articles with short description\",\"Short description is different from Wikidata\",\"Articles with hCards\",\\n\"Articles containing potentially dated statements from August 2019\",\"All articles containing potentially dated statements\",\"Commons link from Wikidata\",\"Wikipedia articles with GND identifiers\",\"Wikipedia articles with LCCN identifiers\",\"Wikipedia articles with MusicBrainz identifiers\",\"Wikipedia articles with VIAF identifiers\",\"Wikipedia articles with WorldCat identifiers\",\"1999 births\",\"Living people\",\"21st-century American singers\",\"African-American country musicians\",\"African-American male rappers\",\"American TikTokers\",\"Columbia Records artists\",\"Gay musicians\",\"Gay rappers\",\"LGBT African Americans\",\"LGBT musicians from the United States\",\"LGBT people from Georgia (U.S. state)\",\"Male TikTokers\",\"Rappers from Atlanta\",\"Southern hip hop musicians\",\"Grammy Award winners\",\"LGBT TikTokers\",\"21st-century male singers\",\"Country rap musicians\",\"LGBT singers from the United States\"'"
      ]
     },
     "execution_count": 8,
     "metadata": {},
     "output_type": "execute_result"
    }
   ],
   "source": [
    "response.text[1000:2000]"
   ]
  },
  {
   "cell_type": "code",
   "execution_count": 6,
   "metadata": {},
   "outputs": [],
   "source": [
    "page = response.text"
   ]
  },
  {
   "cell_type": "code",
   "execution_count": null,
   "metadata": {},
   "outputs": [],
   "source": []
  }
 ],
 "metadata": {
  "kernelspec": {
   "display_name": "Python 3",
   "language": "python",
   "name": "python3"
  },
  "language_info": {
   "codemirror_mode": {
    "name": "ipython",
    "version": 3
   },
   "file_extension": ".py",
   "mimetype": "text/x-python",
   "name": "python",
   "nbconvert_exporter": "python",
   "pygments_lexer": "ipython3",
   "version": "3.8.5"
  }
 },
 "nbformat": 4,
 "nbformat_minor": 4
}
